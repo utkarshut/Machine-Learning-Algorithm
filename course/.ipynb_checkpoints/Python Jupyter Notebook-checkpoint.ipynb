{
 "cells": [
  {
   "cell_type": "markdown",
   "metadata": {},
   "source": [
    "A survey was conducted to gauge an audience interest in different data science topics, namely:\n",
    "\n",
    "Big Data (Spark / Hadoop)\n",
    "Data Analysis / Statistics\n",
    "Data Journalism\n",
    "Data Visualization\n",
    "Deep Learning\n",
    "Machine Learning\n",
    "\n",
    "The participants had three options for each topic: Very Interested, Somewhat interested, and Not interested. 2,233 respondents completed the survey."
   ]
  },
  {
   "cell_type": "markdown",
   "metadata": {},
   "source": [
    "1) Getting and Cleaning the Data\n",
    "\n",
    "The survey results have been saved in a csv file and can be accessed through this link: https://cocl.us/datascience_survey_data.\n",
    "\n",
    "The first column represents the data science topics and the first row represents the choices for each topic.\n",
    "\n",
    "I use the pandas read_csv method to read the csv file into a pandas dataframe.\n",
    "\n",
    "In order to read the data into a dataframe like the above, one way to do that is to use the index_col parameter in order to load the first column as the index of the dataframe. Here is the documentation on the pandas read_csv method: https://pandas.pydata.org/pandas-docs/stable/generated/pandas.read_csv.html\n",
    "\n"
   ]
  },
  {
   "cell_type": "code",
   "execution_count": null,
   "metadata": {},
   "outputs": [],
   "source": [
    "import pandas as pd\n",
    "df=pd.read_csv('https://cocl.us/datascience_survey_data')\n",
    "df.head()\n",
    "df.columns = ['Topics','Very Interested','Somewhat Interested','Not Interested']\n",
    "df.head()"
   ]
  },
  {
   "cell_type": "markdown",
   "metadata": {},
   "source": [
    "2) Matplotlib Barchart\n",
    "\n",
    "I use the artist layer of Matplotlib to visualize the percentage of the respondents' interest in the different data science topics surveyed.\n",
    "\n",
    "To create this bar chart, I follow the following steps:\n",
    "\n",
    "Sort the dataframe in descending order of Very interested.\n",
    "\n",
    "Convert the numbers into percentages of the total number of respondents. 2,233 respondents completed the survey. Round percentages to 2 decimal places.\n",
    "\n",
    "As for the chart:\n",
    "\n",
    "Use a figure size of (20, 8),\n",
    "bar width of 0.8,\n",
    "Use color #5cb85c for the Very interested bars, color #5bc0de for the Somewhat interested bars, and color #d9534f for the Not interested bars,\n",
    "use font size 14 for the bar labels, percentages, and legend,\n",
    "use font size 16 for the title, and,\n",
    "display the percentages above the bars as shown above, and remove the left, top, and right borders.\n",
    "\n"
   ]
  },
  {
   "cell_type": "code",
   "execution_count": null,
   "metadata": {},
   "outputs": [],
   "source": [
    "import pandas as pd\n",
    "\n",
    "dfsorted=df.sort_values(['Very Interested'], ascending=[False])\n",
    "dfsorted.head()\n",
    "\n"
   ]
  },
  {
   "cell_type": "code",
   "execution_count": null,
   "metadata": {},
   "outputs": [],
   "source": [
    "dfsorted['Very Interested']=round((dfsorted['Very Interested'] / 2233)*100,2)\n",
    "dfsorted['Somewhat Interested']=round((dfsorted['Somewhat Interested'] / 2233)*100,2)\n",
    "dfsorted['Not Interested']=round((dfsorted['Not Interested'] / 2233)*100,2)\n",
    "dfsorted\n",
    "\n",
    "\n",
    "\n",
    "\n",
    "\n"
   ]
  },
  {
   "cell_type": "code",
   "execution_count": null,
   "metadata": {},
   "outputs": [],
   "source": [
    "import matplotlib as mpl\n",
    "import matplotlib.pyplot as plt\n",
    "ax = dfsorted.plot(kind='bar', alpha=0.35, figsize=(20, 8),width=0.8, color=['#5cb85c', '#5bc0de', '#d9534f'])\n",
    "\n",
    "ax.set_title('Percentage of Respondents Interest in Data Science Area',fontsize=14)\n",
    "ax.set_ylabel('Number')\n",
    "ax.set_xlabel('Topics')\n",
    "ax.legend(fontsize = 14)\n",
    "ax.set_frame_on(False)\n",
    "ax.set_xlabel(False).set_visible(False)\n",
    "ax.axes.get_yaxis().set_visible(False)\n",
    "ax.set_xticklabels(('Data Analysis / Statistics','Machine Learning','Data Visualization','Big Data (Spark / Hadoop)','Deep Learning','Data Journalism'))\n"
   ]
  },
  {
   "cell_type": "markdown",
   "metadata": {},
   "source": [
    "3) Dataframe Restructuring\n",
    "\n",
    "Let's restructure the data so that it is in the right format for a Choropleth map. Essentially we create a dataframe that lists each neighborhood in San Francisco along with the corresponding total number of crimes.\n",
    "\n",
    "Based on the San Francisco crime dataset San Francisco consists of 10 main neighborhoods, namely:\n",
    "\n",
    "Central,\n",
    "Southern,\n",
    "Bayview,\n",
    "Mission,\n",
    "Park,\n",
    "Richmond,\n",
    "Ingleside,\n",
    "Taraval,\n",
    "Northern, and,\n",
    "Tenderloin.\n",
    "\n",
    "Let's convert the San Francisco dataset, which you can also find here: https://cocl.us/sanfran_crime_dataset, into a pandas dataframe so that represents the total number of crimes in each neighborhood.\n"
   ]
  },
  {
   "cell_type": "code",
   "execution_count": null,
   "metadata": {},
   "outputs": [],
   "source": [
    "import pandas as pd\n",
    "import numpy as np\n",
    "df1=pd.read_csv('https://cocl.us/sanfran_crime_dataset')\n",
    "df1.drop(['Category','Descript','DayOfWeek','Date','Time','Resolution','Address','X','Y','Location','PdId'], axis=1, inplace=True)\n",
    "df1.rename(columns={'IncidntNum':'Count', 'PdDistrict':'Neighborhood'}, inplace=True)\n",
    "df1.columns=list(map(str,df1.columns))\n",
    "df1.set_index('Neighborhood',inplace=True)\n",
    "\n",
    "df1.sort_values('Count',ascending=False)\n",
    "df1=df1.groupby('Neighborhood').count()\n",
    "df1.reset_index(inplace=True)\n",
    "df1\n"
   ]
  },
  {
   "cell_type": "markdown",
   "metadata": {},
   "source": [
    "4) Choropleth map.\n",
    "\n",
    "We need a GeoJSON file that marks the boundaries of the different neighborhoods in San Francisco.  \n",
    "Link: https://cocl.us/sanfran_geojson.\n",
    "\n",
    "For the map, we make sure that:\n",
    "\n",
    "it is centred around San Francisco,\n",
    "I use a zoom level of 12,\n",
    "fill_color = 'YlOrRd',\n",
    "fill_opacity = 0.7,\n",
    "line_opacity=0.2, and,\n",
    "we define a legend and use the default threshold scale.\n"
   ]
  },
  {
   "cell_type": "code",
   "execution_count": null,
   "metadata": {},
   "outputs": [],
   "source": [
    "import json\n",
    "!conda install -c conda-forge folium=0.5.0 --yes\n",
    "import folium\n",
    "print('Folium installed and imported!')\n",
    "from folium import plugins\n",
    "!wget --quiet https://cocl.us/sanfran_geojson -O world_countries.json\n",
    "print('GeoJSON file downloaded!')\n"
   ]
  },
  {
   "cell_type": "code",
   "execution_count": null,
   "metadata": {},
   "outputs": [],
   "source": [
    "world_geo = r'world_countries.json'\n",
    "\n",
    "latitude = 37.77\n",
    "longitude = -122.42\n",
    "\n",
    "world_map = folium.Map(location=[latitude,longitude], zoom_start=12)\n",
    "world_map.choropleth(\n",
    "    geo_data=world_geo,\n",
    "    data=df1,\n",
    "    columns=['Neighborhood', 'Count'],\n",
    "    key_on='feature.properties.DISTRICT',\n",
    "    fill_color='YlOrRd', \n",
    "    fill_opacity=0.7, \n",
    "    line_opacity=0.2,\n",
    "    legend_name='San Francisco Crime Rate'\n",
    "    \n",
    ")\n",
    "world_map"
   ]
  },
  {
   "cell_type": "code",
   "execution_count": null,
   "metadata": {},
   "outputs": [],
   "source": []
  }
 ],
 "metadata": {
  "kernelspec": {
   "display_name": "Python 3",
   "language": "python",
   "name": "python3"
  },
  "language_info": {
   "codemirror_mode": {
    "name": "ipython",
    "version": 3
   },
   "file_extension": ".py",
   "mimetype": "text/x-python",
   "name": "python",
   "nbconvert_exporter": "python",
   "pygments_lexer": "ipython3",
   "version": "3.7.3"
  }
 },
 "nbformat": 4,
 "nbformat_minor": 2
}
