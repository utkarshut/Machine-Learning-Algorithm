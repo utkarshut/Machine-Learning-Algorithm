{
 "cells": [
  {
   "cell_type": "code",
   "execution_count": 5,
   "metadata": {},
   "outputs": [
    {
     "name": "stdout",
     "output_type": "stream",
     "text": [
      "<div class=\"nstory_header\"><a href=\"https://food.ndtv.com/food-drinks/top-diets-that-made-their-mark-this-decade-which-one-do-you-follow-2150259\" title=\"Top Diets That Made Their Mark This Decade; Which One Do You Follow?\">\n",
      "                                Top Diets That Made Their Mark This Decade; Which One Do You Follow?                            </a></div>\n",
      "<div class=\"nstory_header\"><a href=\"https://sports.ndtv.com/cricket/india-vs-west-indies-live-score-over-2nd-odi-odi-6-10-updates-2150695\" title=\"India vs West Indies Live Score, Over 6 to 10 Latest Cricket Score, Updates\">\n",
      "                                India vs West Indies Live Score, Over 6 to 10 Latest Cricket Score, Updates                            </a></div>\n",
      "<div class=\"nstory_header\"><a href=\"https://sports.ndtv.com/othersports/year-2019-top-performances-of-the-decade-2150704\" title=\"Top Performances Of The Decade\">\n",
      "                                Top Performances Of The Decade                            </a></div>\n",
      "<div class=\"nstory_header\"><a href=\"https://www.ndtv.com/india-news/citizenship-act-protests-high-court-to-hear-petition-for-fact-finding-committee-on-jamia-millia-isla-2150701\" title=\"High Court Agrees To Hear Petition For Fact-Finding Committee On Jamia Violence\">\n",
      "                                High Court Agrees To Hear Petition For Fact-Finding Committee On Jamia Violence                            </a></div>\n",
      "<div class=\"nstory_header\"><a href=\"https://www.ndtv.com/offbeat/drivers-slow-down-as-escaped-alligator-calmly-crosses-road-in-viral-video-2150698\" title=\"Drivers Slow Down As Escaped Alligator Calmly Crosses Road In Viral Video\">\n",
      "                                Drivers Slow Down As Escaped Alligator Calmly Crosses Road In Viral Video                            </a></div>\n",
      "<div class=\"nstory_header\"><a href=\"https://sports.ndtv.com/cricket/india-vs-west-indies-live-score-over-2nd-odi-odi-1-5-updates-2150667\" title=\"West Indies vs India Live Score, Over 1 to 5 Latest Cricket Score, Updates\">\n",
      "                                West Indies vs India Live Score, Over 1 to 5 Latest Cricket Score, Updates                            </a></div>\n",
      "<div class=\"nstory_header\"><a href=\"https://gadgets.ndtv.com/entertainment/news/imax-with-laser-india-launch-mumbai-pvr-cinemas-lower-parel-2150694\" title=\"IMAX With Laser Looks Set to Enter India With PVR Cinemas in Mumbai\">\n",
      "                                IMAX With Laser Looks Set to Enter India With PVR Cinemas in Mumbai                            </a></div>\n",
      "<div class=\"nstory_header\"><a href=\"https://www.ndtv.com/entertainment/shriram-lagoo-gave-me-my-first-break-urmila-matondkar-shares-pics-from-film-she-starred-in-as-a-chil-2150691\" title=\"'Shriram Lagoo Gave Me My First Break': Urmila Matondkar Shares Pics From Film She Starred In As A Child\">\n",
      "                                'Shriram Lagoo Gave Me My First Break': Urmila Matondkar Shares Pics From Film She Starred In As A Child                            </a></div>\n",
      "<div class=\"nstory_header\"><a href=\"https://gadgets.ndtv.com/telecom/news/jio-fiber-data-vouchers-rs-101-251-501-1001-2001-4001-update-2150690\" title=\"Jio Fiber Brings Data Vouchers Starting at Rs. 101 to Offer Up to 2TB Additional Data\">\n",
      "                                Jio Fiber Brings Data Vouchers Starting at Rs. 101 to Offer Up to 2TB Additional Data                            </a></div>\n",
      "<div class=\"nstory_header\"><a href=\"https://auto.ndtv.com/news/skoda-vision-in-concept-suv-cabin-sketch-out-global-unveil-at-auto-expo-2020-2150689\" title=\"Skoda Vision IN Concept SUV Cabin Sketch Out; Global Unveil At Auto Expo 2020\">\n",
      "                                Skoda Vision IN Concept SUV Cabin Sketch Out; Global Unveil At Auto Expo 2020                            </a></div>\n",
      "<div class=\"nstory_header\"><a href=\"https://www.ndtv.com/india-news/nirbhayas-mother-tells-ndtv-its-good-we-are-a-step-closer-after-supreme-court-confirms-death-penalty-2150688\" title=\"&quot;Step Closer&quot;: Nirbhaya's Mother To NDTV After Top Court Order On Convict\">\n",
      "                                \"Step Closer\": Nirbhaya's Mother To NDTV After Top Court Order On Convict                            </a></div>\n",
      "<div class=\"nstory_header\"><a href=\"https://www.ndtv.com/entertainment/pm-narendra-modi-mourns-shriram-lagoo-his-work-will-be-remembered-for-years-to-come-2150687\" title=\"PM Narendra Modi Mourns Shriram Lagoo: 'His Work Will Be Remembered For Years To Come'\">\n",
      "                                PM Narendra Modi Mourns Shriram Lagoo: 'His Work Will Be Remembered For Years To Come'                            </a></div>\n",
      "<div class=\"nstory_header\"><a href=\"https://gadgets.ndtv.com/apps/news/facebook-owns-top-four-of-the-most-downloaded-apps-of-the-decade-2150686\" title=\"Facebook Owns Top Four of the Most Downloaded Apps of the Decade\">\n",
      "                                Facebook Owns Top Four of the Most Downloaded Apps of the Decade                            </a></div>\n",
      "<div class=\"nstory_header\"><a href=\"https://www.ndtv.com/delhi-news/whole-country-knows-who-is-capable-of-causing-riots-says-arvind-kejriwal-on-delhi-protests-2150685\" title=\"&quot;Country Knows Who's Capable Of Riots&quot;: Arvind Kejriwal On Delhi Protests\">\n",
      "                                \"Country Knows Who's Capable Of Riots\": Arvind Kejriwal On Delhi Protests                            </a></div>\n",
      "<div class=\"nstory_header\"><a href=\"https://food.ndtv.com/news/healthy-diet-may-help-cancer-patients-avoid-nutritional-problems-after-treatment-study-2150684\" title=\"Healthy Diet May Help Cancer Patients Avoid Nutritional Problems After Treatment; Study\">\n",
      "                                Healthy Diet May Help Cancer Patients Avoid Nutritional Problems After Treatment; Study                            </a></div>\n",
      "[{}, {}, {}, {}, {}, {}, {}, {}, {}, {}, {}, {}, {}, {}, {}]\n"
     ]
    }
   ],
   "source": [
    "\n",
    "import requests \n",
    "from bs4 import BeautifulSoup \n",
    "  \n",
    "URL = \"https://www.ndtv.com/latest?pfrom=home-mainnavgation\"\n",
    "r = requests.get(URL) \n",
    "  \n",
    "soup = BeautifulSoup(r.content, 'html5lib') \n",
    "  \n",
    "quotes=[]  # a list to store quotes \n",
    "  \n",
    "\n",
    "for row in soup.findAll('div', attrs = {'class':'nstory_header'}): \n",
    "    quote = {} \n",
    "    print(row)\n",
    "    quotes.append(quote)  \n",
    "\n",
    "print(quotes) "
   ]
  },
  {
   "cell_type": "code",
   "execution_count": null,
   "metadata": {},
   "outputs": [],
   "source": []
  }
 ],
 "metadata": {
  "kernelspec": {
   "display_name": "Python 3",
   "language": "python",
   "name": "python3"
  },
  "language_info": {
   "codemirror_mode": {
    "name": "ipython",
    "version": 3
   },
   "file_extension": ".py",
   "mimetype": "text/x-python",
   "name": "python",
   "nbconvert_exporter": "python",
   "pygments_lexer": "ipython3",
   "version": "3.7.3"
  }
 },
 "nbformat": 4,
 "nbformat_minor": 2
}
