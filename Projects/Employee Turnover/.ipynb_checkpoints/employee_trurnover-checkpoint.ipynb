{
 "cells": [
  {
   "cell_type": "code",
   "execution_count": 206,
   "metadata": {},
   "outputs": [],
   "source": [
    "import matplotlib.pyplot as plt\n",
    "import numpy as np\n",
    "import pandas as pd\n",
    "import seaborn as sns\n",
    "from sklearn.model_selection import train_test_split\n",
    "from sklearn.utils import resample\n",
    "from sklearn.decomposition import PCA\n",
    "from sklearn.preprocessing import StandardScaler\n",
    "from sklearn.ensemble import RandomForestClassifier,GradientBoostingClassifier\n",
    "from sklearn.model_selection import GridSearchCV\n",
    "from sklearn import metrics\n",
    "from sklearn.pipeline import Pipeline,make_pipeline\n",
    "from sklearn.neighbors import KNeighborsClassifier\n",
    "from sklearn.linear_model import LogisticRegression\n",
    "import warnings\n",
    "warnings.simplefilter(action='ignore', category=FutureWarning)\n",
    "from sklearn.svm import SVC"
   ]
  },
  {
   "cell_type": "code",
   "execution_count": 207,
   "metadata": {},
   "outputs": [],
   "source": [
    "# Load the data\n",
    "df = pd.read_csv(\"./hr_comma_sep.csv\")"
   ]
  },
  {
   "cell_type": "code",
   "execution_count": 208,
   "metadata": {},
   "outputs": [
    {
     "data": {
      "text/html": [
       "<div>\n",
       "<style scoped>\n",
       "    .dataframe tbody tr th:only-of-type {\n",
       "        vertical-align: middle;\n",
       "    }\n",
       "\n",
       "    .dataframe tbody tr th {\n",
       "        vertical-align: top;\n",
       "    }\n",
       "\n",
       "    .dataframe thead th {\n",
       "        text-align: right;\n",
       "    }\n",
       "</style>\n",
       "<table border=\"1\" class=\"dataframe\">\n",
       "  <thead>\n",
       "    <tr style=\"text-align: right;\">\n",
       "      <th></th>\n",
       "      <th>satisfaction_level</th>\n",
       "      <th>last_evaluation</th>\n",
       "      <th>number_project</th>\n",
       "      <th>average_montly_hours</th>\n",
       "      <th>time_spend_company</th>\n",
       "      <th>Work_accident</th>\n",
       "      <th>left</th>\n",
       "      <th>promotion_last_5years</th>\n",
       "      <th>sales</th>\n",
       "      <th>salary</th>\n",
       "    </tr>\n",
       "  </thead>\n",
       "  <tbody>\n",
       "    <tr>\n",
       "      <td>0</td>\n",
       "      <td>0.38</td>\n",
       "      <td>0.53</td>\n",
       "      <td>2</td>\n",
       "      <td>157</td>\n",
       "      <td>3</td>\n",
       "      <td>0</td>\n",
       "      <td>1</td>\n",
       "      <td>0</td>\n",
       "      <td>sales</td>\n",
       "      <td>low</td>\n",
       "    </tr>\n",
       "    <tr>\n",
       "      <td>1</td>\n",
       "      <td>0.80</td>\n",
       "      <td>0.86</td>\n",
       "      <td>5</td>\n",
       "      <td>262</td>\n",
       "      <td>6</td>\n",
       "      <td>0</td>\n",
       "      <td>1</td>\n",
       "      <td>0</td>\n",
       "      <td>sales</td>\n",
       "      <td>medium</td>\n",
       "    </tr>\n",
       "    <tr>\n",
       "      <td>2</td>\n",
       "      <td>0.11</td>\n",
       "      <td>0.88</td>\n",
       "      <td>7</td>\n",
       "      <td>272</td>\n",
       "      <td>4</td>\n",
       "      <td>0</td>\n",
       "      <td>1</td>\n",
       "      <td>0</td>\n",
       "      <td>sales</td>\n",
       "      <td>medium</td>\n",
       "    </tr>\n",
       "    <tr>\n",
       "      <td>3</td>\n",
       "      <td>0.72</td>\n",
       "      <td>0.87</td>\n",
       "      <td>5</td>\n",
       "      <td>223</td>\n",
       "      <td>5</td>\n",
       "      <td>0</td>\n",
       "      <td>1</td>\n",
       "      <td>0</td>\n",
       "      <td>sales</td>\n",
       "      <td>low</td>\n",
       "    </tr>\n",
       "    <tr>\n",
       "      <td>4</td>\n",
       "      <td>0.37</td>\n",
       "      <td>0.52</td>\n",
       "      <td>2</td>\n",
       "      <td>159</td>\n",
       "      <td>3</td>\n",
       "      <td>0</td>\n",
       "      <td>1</td>\n",
       "      <td>0</td>\n",
       "      <td>sales</td>\n",
       "      <td>low</td>\n",
       "    </tr>\n",
       "  </tbody>\n",
       "</table>\n",
       "</div>"
      ],
      "text/plain": [
       "   satisfaction_level  last_evaluation  number_project  average_montly_hours  \\\n",
       "0                0.38             0.53               2                   157   \n",
       "1                0.80             0.86               5                   262   \n",
       "2                0.11             0.88               7                   272   \n",
       "3                0.72             0.87               5                   223   \n",
       "4                0.37             0.52               2                   159   \n",
       "\n",
       "   time_spend_company  Work_accident  left  promotion_last_5years  sales  \\\n",
       "0                   3              0     1                      0  sales   \n",
       "1                   6              0     1                      0  sales   \n",
       "2                   4              0     1                      0  sales   \n",
       "3                   5              0     1                      0  sales   \n",
       "4                   3              0     1                      0  sales   \n",
       "\n",
       "   salary  \n",
       "0     low  \n",
       "1  medium  \n",
       "2  medium  \n",
       "3     low  \n",
       "4     low  "
      ]
     },
     "execution_count": 208,
     "metadata": {},
     "output_type": "execute_result"
    }
   ],
   "source": [
    "df.head()"
   ]
  },
  {
   "cell_type": "code",
   "execution_count": 209,
   "metadata": {},
   "outputs": [
    {
     "name": "stdout",
     "output_type": "stream",
     "text": [
      "<class 'pandas.core.frame.DataFrame'>\n",
      "RangeIndex: 14999 entries, 0 to 14998\n",
      "Data columns (total 10 columns):\n",
      "satisfaction_level       14999 non-null float64\n",
      "last_evaluation          14999 non-null float64\n",
      "number_project           14999 non-null int64\n",
      "average_montly_hours     14999 non-null int64\n",
      "time_spend_company       14999 non-null int64\n",
      "Work_accident            14999 non-null int64\n",
      "left                     14999 non-null int64\n",
      "promotion_last_5years    14999 non-null int64\n",
      "sales                    14999 non-null object\n",
      "salary                   14999 non-null object\n",
      "dtypes: float64(2), int64(6), object(2)\n",
      "memory usage: 1.1+ MB\n"
     ]
    }
   ],
   "source": [
    "df.info()"
   ]
  },
  {
   "cell_type": "code",
   "execution_count": 210,
   "metadata": {},
   "outputs": [
    {
     "data": {
      "text/plain": [
       "satisfaction_level       0\n",
       "last_evaluation          0\n",
       "number_project           0\n",
       "average_montly_hours     0\n",
       "time_spend_company       0\n",
       "Work_accident            0\n",
       "left                     0\n",
       "promotion_last_5years    0\n",
       "sales                    0\n",
       "salary                   0\n",
       "dtype: int64"
      ]
     },
     "execution_count": 210,
     "metadata": {},
     "output_type": "execute_result"
    }
   ],
   "source": [
    "df.isnull().sum()"
   ]
  },
  {
   "cell_type": "code",
   "execution_count": 211,
   "metadata": {},
   "outputs": [
    {
     "data": {
      "text/plain": [
       "sales          4140\n",
       "technical      2720\n",
       "support        2229\n",
       "IT             1227\n",
       "product_mng     902\n",
       "marketing       858\n",
       "RandD           787\n",
       "accounting      767\n",
       "hr              739\n",
       "management      630\n",
       "Name: sales, dtype: int64"
      ]
     },
     "execution_count": 211,
     "metadata": {},
     "output_type": "execute_result"
    }
   ],
   "source": [
    "df['sales'].value_counts()"
   ]
  },
  {
   "cell_type": "code",
   "execution_count": 212,
   "metadata": {},
   "outputs": [
    {
     "data": {
      "text/plain": [
       "low       7316\n",
       "medium    6446\n",
       "high      1237\n",
       "Name: salary, dtype: int64"
      ]
     },
     "execution_count": 212,
     "metadata": {},
     "output_type": "execute_result"
    }
   ],
   "source": [
    "df['salary'].value_counts()"
   ]
  },
  {
   "cell_type": "markdown",
   "metadata": {},
   "source": [
    "#### Rename Sales column to Department\n",
    "#### Convert Salary column to ordinal\n",
    "#### create dummy feature from Department"
   ]
  },
  {
   "cell_type": "code",
   "execution_count": 213,
   "metadata": {},
   "outputs": [
    {
     "data": {
      "text/html": [
       "<div>\n",
       "<style scoped>\n",
       "    .dataframe tbody tr th:only-of-type {\n",
       "        vertical-align: middle;\n",
       "    }\n",
       "\n",
       "    .dataframe tbody tr th {\n",
       "        vertical-align: top;\n",
       "    }\n",
       "\n",
       "    .dataframe thead th {\n",
       "        text-align: right;\n",
       "    }\n",
       "</style>\n",
       "<table border=\"1\" class=\"dataframe\">\n",
       "  <thead>\n",
       "    <tr style=\"text-align: right;\">\n",
       "      <th></th>\n",
       "      <th>satisfaction_level</th>\n",
       "      <th>last_evaluation</th>\n",
       "      <th>number_project</th>\n",
       "      <th>average_montly_hours</th>\n",
       "      <th>time_spend_company</th>\n",
       "      <th>Work_accident</th>\n",
       "      <th>left</th>\n",
       "      <th>promotion_last_5years</th>\n",
       "      <th>salary</th>\n",
       "      <th>department_RandD</th>\n",
       "      <th>department_accounting</th>\n",
       "      <th>department_hr</th>\n",
       "      <th>department_management</th>\n",
       "      <th>department_marketing</th>\n",
       "      <th>department_product_mng</th>\n",
       "      <th>department_sales</th>\n",
       "      <th>department_support</th>\n",
       "      <th>department_technical</th>\n",
       "    </tr>\n",
       "  </thead>\n",
       "  <tbody>\n",
       "    <tr>\n",
       "      <td>0</td>\n",
       "      <td>0.38</td>\n",
       "      <td>0.53</td>\n",
       "      <td>2</td>\n",
       "      <td>157</td>\n",
       "      <td>3</td>\n",
       "      <td>0</td>\n",
       "      <td>1</td>\n",
       "      <td>0</td>\n",
       "      <td>0</td>\n",
       "      <td>0</td>\n",
       "      <td>0</td>\n",
       "      <td>0</td>\n",
       "      <td>0</td>\n",
       "      <td>0</td>\n",
       "      <td>0</td>\n",
       "      <td>1</td>\n",
       "      <td>0</td>\n",
       "      <td>0</td>\n",
       "    </tr>\n",
       "    <tr>\n",
       "      <td>1</td>\n",
       "      <td>0.80</td>\n",
       "      <td>0.86</td>\n",
       "      <td>5</td>\n",
       "      <td>262</td>\n",
       "      <td>6</td>\n",
       "      <td>0</td>\n",
       "      <td>1</td>\n",
       "      <td>0</td>\n",
       "      <td>1</td>\n",
       "      <td>0</td>\n",
       "      <td>0</td>\n",
       "      <td>0</td>\n",
       "      <td>0</td>\n",
       "      <td>0</td>\n",
       "      <td>0</td>\n",
       "      <td>1</td>\n",
       "      <td>0</td>\n",
       "      <td>0</td>\n",
       "    </tr>\n",
       "    <tr>\n",
       "      <td>2</td>\n",
       "      <td>0.11</td>\n",
       "      <td>0.88</td>\n",
       "      <td>7</td>\n",
       "      <td>272</td>\n",
       "      <td>4</td>\n",
       "      <td>0</td>\n",
       "      <td>1</td>\n",
       "      <td>0</td>\n",
       "      <td>1</td>\n",
       "      <td>0</td>\n",
       "      <td>0</td>\n",
       "      <td>0</td>\n",
       "      <td>0</td>\n",
       "      <td>0</td>\n",
       "      <td>0</td>\n",
       "      <td>1</td>\n",
       "      <td>0</td>\n",
       "      <td>0</td>\n",
       "    </tr>\n",
       "    <tr>\n",
       "      <td>3</td>\n",
       "      <td>0.72</td>\n",
       "      <td>0.87</td>\n",
       "      <td>5</td>\n",
       "      <td>223</td>\n",
       "      <td>5</td>\n",
       "      <td>0</td>\n",
       "      <td>1</td>\n",
       "      <td>0</td>\n",
       "      <td>0</td>\n",
       "      <td>0</td>\n",
       "      <td>0</td>\n",
       "      <td>0</td>\n",
       "      <td>0</td>\n",
       "      <td>0</td>\n",
       "      <td>0</td>\n",
       "      <td>1</td>\n",
       "      <td>0</td>\n",
       "      <td>0</td>\n",
       "    </tr>\n",
       "    <tr>\n",
       "      <td>4</td>\n",
       "      <td>0.37</td>\n",
       "      <td>0.52</td>\n",
       "      <td>2</td>\n",
       "      <td>159</td>\n",
       "      <td>3</td>\n",
       "      <td>0</td>\n",
       "      <td>1</td>\n",
       "      <td>0</td>\n",
       "      <td>0</td>\n",
       "      <td>0</td>\n",
       "      <td>0</td>\n",
       "      <td>0</td>\n",
       "      <td>0</td>\n",
       "      <td>0</td>\n",
       "      <td>0</td>\n",
       "      <td>1</td>\n",
       "      <td>0</td>\n",
       "      <td>0</td>\n",
       "    </tr>\n",
       "  </tbody>\n",
       "</table>\n",
       "</div>"
      ],
      "text/plain": [
       "   satisfaction_level  last_evaluation  number_project  average_montly_hours  \\\n",
       "0                0.38             0.53               2                   157   \n",
       "1                0.80             0.86               5                   262   \n",
       "2                0.11             0.88               7                   272   \n",
       "3                0.72             0.87               5                   223   \n",
       "4                0.37             0.52               2                   159   \n",
       "\n",
       "   time_spend_company  Work_accident  left  promotion_last_5years  salary  \\\n",
       "0                   3              0     1                      0       0   \n",
       "1                   6              0     1                      0       1   \n",
       "2                   4              0     1                      0       1   \n",
       "3                   5              0     1                      0       0   \n",
       "4                   3              0     1                      0       0   \n",
       "\n",
       "   department_RandD  department_accounting  department_hr  \\\n",
       "0                 0                      0              0   \n",
       "1                 0                      0              0   \n",
       "2                 0                      0              0   \n",
       "3                 0                      0              0   \n",
       "4                 0                      0              0   \n",
       "\n",
       "   department_management  department_marketing  department_product_mng  \\\n",
       "0                      0                     0                       0   \n",
       "1                      0                     0                       0   \n",
       "2                      0                     0                       0   \n",
       "3                      0                     0                       0   \n",
       "4                      0                     0                       0   \n",
       "\n",
       "   department_sales  department_support  department_technical  \n",
       "0                 1                   0                     0  \n",
       "1                 1                   0                     0  \n",
       "2                 1                   0                     0  \n",
       "3                 1                   0                     0  \n",
       "4                 1                   0                     0  "
      ]
     },
     "execution_count": 213,
     "metadata": {},
     "output_type": "execute_result"
    }
   ],
   "source": [
    "\n",
    "# Rename Sales feature to department\n",
    "df = df.rename(columns={\"sales\": \"department\"})\n",
    "\n",
    "# Salary to ordinal\n",
    "salary_map = {\"low\": 0, \"medium\": 1, \"high\": 2}\n",
    "df[\"salary\"] = df[\"salary\"].map(salary_map)\n",
    "\n",
    "# Create dummy variables for department feature\n",
    "df = pd.get_dummies(df, columns=[\"department\"], drop_first=True)\n",
    "df.head()"
   ]
  },
  {
   "cell_type": "code",
   "execution_count": 214,
   "metadata": {},
   "outputs": [
    {
     "data": {
      "text/plain": [
       "(14999, 18)"
      ]
     },
     "execution_count": 214,
     "metadata": {},
     "output_type": "execute_result"
    }
   ],
   "source": [
    "df.shape"
   ]
  },
  {
   "cell_type": "code",
   "execution_count": 215,
   "metadata": {},
   "outputs": [
    {
     "name": "stdout",
     "output_type": "stream",
     "text": [
      "0    11428\n",
      "1     3571\n",
      "Name: left, dtype: int64\n"
     ]
    },
    {
     "data": {
      "text/plain": [
       "([<matplotlib.axis.XTick at 0x1a20881ba8>,\n",
       "  <matplotlib.axis.XTick at 0x1a208814e0>],\n",
       " <a list of 2 Text xticklabel objects>)"
      ]
     },
     "execution_count": 215,
     "metadata": {},
     "output_type": "execute_result"
    },
    {
     "data": {
      "image/png": "[encoded data removed]",
      "text/plain": [
       "<Figure size 432x288 with 1 Axes>"
      ]
     },
     "metadata": {
      "needs_background": "light"
     },
     "output_type": "display_data"
    }
   ],
   "source": [
    "print(df[\"left\"].value_counts())\n",
    "df[\"left\"].value_counts().plot(kind='bar')\n",
    "plt.ylabel('Emp Count')\n",
    "plt.title('Employee not/left count data comparison')\n",
    "plt.xticks((0, 1), [\"Didn't leave\", \"Left\"])"
   ]
  },
  {
   "cell_type": "markdown",
   "metadata": {},
   "source": [
    "Imbalance dataset found  \n",
    "--> metric F1-score or AUC(area under ROC curve) \n",
    "There are three ways to deal with this issue:\n",
    "we also try Upsampling the minority class and downsampling the majority class.\n",
    "Also generate synthetic training examples"
   ]
  },
  {
   "cell_type": "code",
   "execution_count": 216,
   "metadata": {},
   "outputs": [
    {
     "name": "stdout",
     "output_type": "stream",
     "text": [
      "[1 1 1 ... 1 1 1]\n",
      "(18284,)\n",
      "Original shape: (11999, 17)\n",
      "Upsampled shape: (18284, 17)\n",
      "Downsampled shape: (5714, 17)\n"
     ]
    }
   ],
   "source": [
    "# train and test sets: 80/20\n",
    "X = df.loc[:, df.columns != \"left\"].values\n",
    "y = df.loc[:, df.columns == \"left\"].values.ravel()\n",
    "X= StandardScaler().fit(X).transform(X)\n",
    "print(y)\n",
    "X_train, X_test, y_train, y_test = train_test_split(X, y, test_size=0.2, stratify=y, random_state=1)\n",
    "# Upsample minor class\n",
    "X_train_u, y_train_u = resample(X_train[y_train == 1],\n",
    "                                y_train[y_train == 1],\n",
    "                                replace=True,\n",
    "                                n_samples=X_train[y_train == 0].shape[0],\n",
    "                                random_state=1)\n",
    "X_train_u = np.concatenate((X_train[y_train == 0], X_train_u))\n",
    "y_train_u = np.concatenate((y_train[y_train == 0], y_train_u))\n",
    "print(y_train_u.shape)\n",
    "\n",
    "# Downsample major class\n",
    "X_train_d, y_train_d = resample(X_train[y_train == 0],\n",
    "                                y_train[y_train == 0],\n",
    "                                replace=True,\n",
    "                                n_samples=X_train[y_train == 1].shape[0],\n",
    "                                random_state=1)\n",
    "X_train_d = np.concatenate((X_train[y_train == 1], X_train_d))\n",
    "y_train_d = np.concatenate((y_train[y_train == 1], y_train_d))\n",
    "\n",
    "print(\"Original shape:\", X_train.shape)\n",
    "print(\"Upsampled shape:\", X_train_u.shape)\n",
    "print(\"Downsampled shape:\", X_train_d.shape)"
   ]
  },
  {
   "cell_type": "markdown",
   "metadata": {},
   "source": [
    "PCA is not required as much as it has 17 feature with better interpretation \n",
    "PCA to check maximum the variation in the data."
   ]
  },
  {
   "cell_type": "code",
   "execution_count": 217,
   "metadata": {},
   "outputs": [
    {
     "name": "stdout",
     "output_type": "stream",
     "text": [
      "[0.1078147  0.07975255 0.07766479 0.07081241 0.06759775 0.06443285\n",
      " 0.0628709  0.06239438 0.06201072 0.06156182 0.05722036 0.05238222\n",
      " 0.05020699 0.04843102 0.03701255 0.03213212 0.00570187]\n",
      "[0.1078147  0.18756726 0.26523205 0.33604446 0.4036422  0.46807506\n",
      " 0.53094596 0.59334034 0.65535106 0.71691288 0.77413324 0.82651546\n",
      " 0.87672244 0.92515346 0.96216602 0.99429813 1.        ]\n"
     ]
    },
    {
     "data": {
      "image/png": "[encoded data removed]",
      "text/plain": [
       "<Figure size 864x432 with 1 Axes>"
      ]
     },
     "metadata": {
      "needs_background": "light"
     },
     "output_type": "display_data"
    }
   ],
   "source": [
    "\n",
    "# Build PCA using standarized trained data\n",
    "pca = PCA(n_components=None, svd_solver=\"full\")\n",
    "pca.fit(StandardScaler().fit_transform(X_train))\n",
    "print(pca.explained_variance_ratio_)\n",
    "cum_var_exp = np.cumsum(pca.explained_variance_ratio_)\n",
    "plt.figure(figsize=(12, 6))\n",
    "plt.bar(range(1, 18), pca.explained_variance_ratio_, align=\"center\",\n",
    "        color='red', label=\"Individual explained variance\")\n",
    "plt.step(range(1, 18), cum_var_exp, where=\"mid\", label=\"Cumulative explained variance\")\n",
    "plt.xticks(range(1, 18))\n",
    "plt.legend(loc=\"best\")\n",
    "plt.xlabel(\"Principal component index\", {\"fontsize\": 14})\n",
    "plt.ylabel(\"Explained variance ratio\", {\"fontsize\": 14})\n",
    "plt.title(\"PCA on training data\", {\"fontsize\": 16});\n",
    "print(cum_var_exp)"
   ]
  },
  {
   "cell_type": "markdown",
   "metadata": {},
   "source": [
    "it almost similar variation and takes around 14,15,16 component for maximum vairation so No need \n",
    "of PCA as all features are in descent "
   ]
  },
  {
   "cell_type": "code",
   "execution_count": 218,
   "metadata": {},
   "outputs": [
    {
     "name": "stdout",
     "output_type": "stream",
     "text": [
      "(11999, 17)\n",
      "{'criterion': 'gini', 'max_features': 0.4, 'min_samples_leaf': 1, 'n_estimators': 100}\n",
      "0.9804623134035417\n",
      "(18284, 17)\n",
      "{'criterion': 'gini', 'max_features': 0.4, 'min_samples_leaf': 1, 'n_estimators': 100}\n",
      "0.997976212633725\n",
      "(5714, 17)\n",
      "{'criterion': 'entropy', 'max_features': 0.5, 'min_samples_leaf': 1, 'n_estimators': 50}\n",
      "0.9813887597005412\n"
     ]
    }
   ],
   "source": [
    "# Build random forest classifier\n",
    "method_data = {\"Original\": (X_train, y_train),\n",
    "                \"Upsampled\": (X_train_u, y_train_u),\n",
    "                \"Downsampled\": (X_train_d, y_train_d)}\n",
    "\n",
    "def tuningParam(method_data):\n",
    "    for data_i in method_data.keys():\n",
    "        rd_clf= RandomForestClassifier()\n",
    "        hyperparam_grid={\n",
    "        \"n_estimators\": [10, 50, 100],\n",
    "        \"max_features\": [\"sqrt\", \"log2\", 0.4, 0.5],\n",
    "        \"min_samples_leaf\": [1, 3, 5],\n",
    "        \"criterion\": [\"gini\", \"entropy\"]}\n",
    "        gs_rf = GridSearchCV(rd_clf,hyperparam_grid,scoring=\"f1\",cv=5)\n",
    "        print(method_data[data_i][0].shape)\n",
    "        gs_rf.fit(method_data[data_i][0],method_data[data_i][1])\n",
    "        print(gs_rf.best_params_)\n",
    "        print(gs_rf.best_score_)\n",
    "        \n",
    "tuningParam(method_data)\n",
    "        \n",
    "        \n",
    "    \n",
    "    \n",
    "\n"
   ]
  },
  {
   "cell_type": "code",
   "execution_count": 219,
   "metadata": {},
   "outputs": [
    {
     "name": "stdout",
     "output_type": "stream",
     "text": [
      "area under curve 0.99\n"
     ]
    },
    {
     "data": {
      "image/png": "[encoded data removed]",
      "text/plain": [
       "<Figure size 432x288 with 2 Axes>"
      ]
     },
     "metadata": {
      "needs_background": "light"
     },
     "output_type": "display_data"
    }
   ],
   "source": [
    "#X_train, y_train = np.copy(X_train_u), np.copy(y_train_u)\n",
    "\n",
    "# Delete original and downsampled data\n",
    "#del X_train_u, y_train_u, X_train_d, y_train_d\n",
    "\n",
    "# Refit RF classifier using best params\n",
    "clf_rf = make_pipeline(StandardScaler(),RandomForestClassifier(n_estimators=100,\n",
    "                                              criterion=\"entropy\",\n",
    "                                              max_features=0.4,\n",
    "                                              min_samples_leaf=1))\n",
    "\n",
    "\n",
    "clf_rf.fit(X_train, y_train)\n",
    "\n",
    "# Plot confusion matrix and ROC curve\n",
    "metrics.plot_confusion_matrix(clf_rf, X_test, y_test,normalize='true')\n",
    "print(\"area under curve {:.2f}\".format(metrics.roc_auc_score(y_test, clf_rf.predict(X_test))))\n"
   ]
  },
  {
   "cell_type": "code",
   "execution_count": 220,
   "metadata": {},
   "outputs": [
    {
     "name": "stdout",
     "output_type": "stream",
     "text": [
      "{'clf__learning_rate': 0.1, 'clf__max_depth': 3, 'clf__max_features': 0.5, 'clf__n_estimators': 100}\n",
      "0.9485772139564546\n"
     ]
    }
   ],
   "source": [
    "\n",
    "gb_clf= Pipeline([('clf',GradientBoostingClassifier())])\n",
    "hyperparam_grid={\"clf__max_features\": [\"log2\", 0.5],\n",
    "                 \"clf__n_estimators\": [10, 50, 100],\n",
    "                 \"clf__learning_rate\": [0.001, 0.01, 0.1],\n",
    "                 \"clf__max_depth\": [1, 2, 3]}\n",
    "gs_gb = GridSearchCV(gb_clf,hyperparam_grid,scoring=\"f1\",cv=5)\n",
    "gs_gb.fit(X_train,y_train)\n",
    "print(gs_gb.best_params_)\n",
    "print(gs_gb.best_score_)\n",
    "        "
   ]
  },
  {
   "cell_type": "code",
   "execution_count": 221,
   "metadata": {},
   "outputs": [
    {
     "name": "stdout",
     "output_type": "stream",
     "text": [
      "area under cover 0.96\n"
     ]
    },
    {
     "data": {
      "image/png": "[encoded data removed]",
      "text/plain": [
       "<Figure size 432x288 with 2 Axes>"
      ]
     },
     "metadata": {
      "needs_background": "light"
     },
     "output_type": "display_data"
    }
   ],
   "source": [
    "clf_gb = make_pipeline(StandardScaler(),GradientBoostingClassifier(n_estimators=100,\n",
    "                                              learning_rate=0.1,\n",
    "                                              max_features=0.5,\n",
    "                                              max_depth=3))\n",
    "\n",
    "\n",
    "clf_gb.fit(X_train, y_train)\n",
    "\n",
    "# Plot confusion matrix and ROC curve\n",
    "metrics.plot_confusion_matrix(clf_gb, X_test, y_test,normalize='true')\n",
    "print(\"area under cover {:.2f}\".format(metrics.roc_auc_score(y_test, clf_gb.predict(X_test))))"
   ]
  },
  {
   "cell_type": "code",
   "execution_count": 222,
   "metadata": {},
   "outputs": [
    {
     "name": "stdout",
     "output_type": "stream",
     "text": [
      "{'n_neighbors': 4, 'weights': 'distance'}\n",
      "0.902622811672059\n"
     ]
    }
   ],
   "source": [
    "knn_clf= KNeighborsClassifier()\n",
    "hyperparam_grid={\"n_neighbors\": range(1,15),\n",
    "                 \"weights\": ['uniform','distance']}\n",
    "gs_knn = GridSearchCV(knn_clf,hyperparam_grid,scoring=\"f1\",cv=2)\n",
    "gs_knn.fit(X_train,y_train)\n",
    "print(gs_knn.best_params_)\n",
    "print(gs_knn.best_score_)"
   ]
  },
  {
   "cell_type": "code",
   "execution_count": 223,
   "metadata": {},
   "outputs": [
    {
     "name": "stdout",
     "output_type": "stream",
     "text": [
      "area under cover 0.97\n"
     ]
    },
    {
     "data": {
      "image/png": "[encoded data removed]",
      "text/plain": [
       "<Figure size 432x288 with 2 Axes>"
      ]
     },
     "metadata": {
      "needs_background": "light"
     },
     "output_type": "display_data"
    }
   ],
   "source": [
    "clf_knn = make_pipeline(StandardScaler(),KNeighborsClassifier(n_neighbors=4,\n",
    "                                              weights='distance'))\n",
    "\n",
    "\n",
    "clf_knn.fit(X_train, y_train)\n",
    "\n",
    "# Plot confusion matrix and ROC curve\n",
    "metrics.plot_confusion_matrix(clf_knn, X_test, y_test,normalize='true')\n",
    "print(\"area under cover {:.2f}\".format(metrics.roc_auc_score(y_test, clf_knn.predict(X_test))))"
   ]
  },
  {
   "cell_type": "code",
   "execution_count": 224,
   "metadata": {},
   "outputs": [
    {
     "name": "stdout",
     "output_type": "stream",
     "text": [
      "{'C': 0.5, 'fit_intercept': False, 'penalty': 'l2'}\n",
      "0.5586010228435049\n"
     ]
    }
   ],
   "source": [
    "lg_clf= LogisticRegression(solver='lbfgs')\n",
    "hyperparam_grid = {\"penalty\": [ \"l2\"],\n",
    "                   \"C\":  np.arange(0.5,20,0.5),\n",
    "                   \"fit_intercept\": [True, False]\n",
    "                  }\n",
    "gs_lg = GridSearchCV(lg_clf,hyperparam_grid,scoring=\"f1\",cv=2)\n",
    "gs_lg.fit(X_train,y_train)\n",
    "print(gs_lg.best_params_)\n",
    "print(gs_lg.best_score_)"
   ]
  },
  {
   "cell_type": "code",
   "execution_count": 225,
   "metadata": {},
   "outputs": [
    {
     "name": "stdout",
     "output_type": "stream",
     "text": [
      "area under cover 0.74\n"
     ]
    },
    {
     "data": {
      "image/png": "[encoded data removed]",
      "text/plain": [
       "<Figure size 432x288 with 2 Axes>"
      ]
     },
     "metadata": {
      "needs_background": "light"
     },
     "output_type": "display_data"
    }
   ],
   "source": [
    "clf_lg = make_pipeline(StandardScaler(),LogisticRegression(solver='lbfgs',C=0.5, fit_intercept= False, penalty='l2'))\n",
    "\n",
    "\n",
    "clf_lg.fit(X_train, y_train)\n",
    "\n",
    "# Plot confusion matrix and ROC curve\n",
    "metrics.plot_confusion_matrix(clf_lg, X_test, y_test,normalize='true')\n",
    "print(\"area under cover {:.2f}\".format(metrics.roc_auc_score(y_test, clf_lg.predict(X_test))))"
   ]
  },
  {
   "cell_type": "code",
   "execution_count": 226,
   "metadata": {},
   "outputs": [
    {
     "name": "stdout",
     "output_type": "stream",
     "text": [
      "{'C': 10, 'gamma': 1}\n",
      "0.9295276701422419\n"
     ]
    }
   ],
   "source": [
    "svc_clf= SVC(kernel='rbf')\n",
    "Cs = [0.001, 0.01, 0.1, 1, 10]\n",
    "gammas = [0.001, 0.01, 0.1, 1]\n",
    "hyperparam_grid = {'C':Cs,'gamma':gammas}\n",
    "gs_svc = GridSearchCV(svc_clf,hyperparam_grid,scoring=\"f1\",cv=2)\n",
    "gs_svc.fit(X_train,y_train)\n",
    "print(gs_svc.best_params_)\n",
    "print(gs_svc.best_score_)"
   ]
  },
  {
   "cell_type": "code",
   "execution_count": 227,
   "metadata": {},
   "outputs": [
    {
     "name": "stdout",
     "output_type": "stream",
     "text": [
      "area under cover 0.97\n"
     ]
    },
    {
     "data": {
      "image/png": "[encoded data removed]",
      "text/plain": [
       "<Figure size 432x288 with 2 Axes>"
      ]
     },
     "metadata": {
      "needs_background": "light"
     },
     "output_type": "display_data"
    }
   ],
   "source": [
    "clf_svc = make_pipeline(StandardScaler(),SVC(kernel='rbf',C=10,gamma=1))\n",
    "\n",
    "\n",
    "clf_svc.fit(X_train, y_train)\n",
    "\n",
    "# Plot confusion matrix and ROC curve\n",
    "metrics.plot_confusion_matrix(clf_svc, X_test, y_test,normalize='true')\n",
    "print(\"area under cover {:.2f}\".format(metrics.roc_auc_score(y_test, clf_svc.predict(X_test))))"
   ]
  },
  {
   "cell_type": "code",
   "execution_count": 228,
   "metadata": {},
   "outputs": [
    {
     "name": "stdout",
     "output_type": "stream",
     "text": [
      "RF: 99.23%, 98.37%.\n",
      "LR: 69.30%, 56.21%.\n",
      "SVC: 98.00%, 95.77%.\n",
      "GB: 97.77%, 95.20%.\n",
      "KNN: 96.77%, 93.46%.\n"
     ]
    }
   ],
   "source": [
    "estimators = {\"RF\": clf_rf,\n",
    "              \"LR\": clf_lg,\n",
    "              \"SVC\": clf_svc,\n",
    "              \"GB\": clf_gb,\n",
    "              \"KNN\": clf_knn}\n",
    "for estimator in estimators.keys():\n",
    "    print(\"{}: {:.2f}%, {:.2f}%.\".format(estimator,\n",
    "        metrics.accuracy_score(y_test, estimators[estimator].predict(X_test)) * 100,\n",
    "         metrics.f1_score(y_test, estimators[estimator].predict(X_test)) * 100))"
   ]
  },
  {
   "cell_type": "code",
   "execution_count": 229,
   "metadata": {},
   "outputs": [
    {
     "name": "stdout",
     "output_type": "stream",
     "text": [
      "[13 12  6  8  9 11 10 15 16 14  5  7  1  2  3  4  0]\n",
      "[ 0  4  3  2  1  7  5 14 16 15 10 11  9  8  6 12 13]\n"
     ]
    },
    {
     "data": {
      "image/png": "[encoded data removed]",
      "text/plain": [
       "<Figure size 864x432 with 1 Axes>"
      ]
     },
     "metadata": {
      "needs_background": "light"
     },
     "output_type": "display_data"
    }
   ],
   "source": [
    "clf_rf = RandomForestClassifier(n_estimators=100,\n",
    "                                              criterion=\"entropy\",\n",
    "                                              max_features=0.4,\n",
    "                                              min_samples_leaf=1)\n",
    "\n",
    "\n",
    "clf_rf.fit(StandardScaler().fit_transform(X_train), y_train)\n",
    "\n",
    "# Plot features importance\n",
    "importances = clf_rf.feature_importances_\n",
    "print(np.argsort(clf_rf.feature_importances_))\n",
    "indices = np.argsort(clf_rf.feature_importances_)[::-1]\n",
    "print(indices)\n",
    "plt.figure(figsize=(12, 6))\n",
    "plt.bar(range(1, 18), importances[indices], align=\"center\")\n",
    "plt.xticks(range(1, 18), df.columns[df.columns != \"left\"][indices], rotation=90)\n",
    "plt.title(\"Feature Importance\", {\"fontsize\": 16});"
   ]
  },
  {
   "cell_type": "code",
   "execution_count": null,
   "metadata": {},
   "outputs": [],
   "source": []
  }
 ],
 "metadata": {
  "kernelspec": {
   "display_name": "Python 3",
   "language": "python",
   "name": "python3"
  },
  "language_info": {
   "codemirror_mode": {
    "name": "ipython",
    "version": 3
   },
   "file_extension": ".py",
   "mimetype": "text/x-python",
   "name": "python",
   "nbconvert_exporter": "python",
   "pygments_lexer": "ipython3",
   "version": "3.7.3"
  }
 },
 "nbformat": 4,
 "nbformat_minor": 2
}
