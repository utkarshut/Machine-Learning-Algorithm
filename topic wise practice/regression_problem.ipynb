{
 "cells": [
  {
   "cell_type": "code",
   "execution_count": 6,
   "metadata": {},
   "outputs": [],
   "source": [
    "import pandas as pd\n",
    "import numpy as np\n",
    "import matplotlib.pyplot as plt\n",
    "import seaborn as sns\n",
    "from wordcloud import WordCloud\n",
    "from collections import Counter\n",
    "import string\n",
    "from nltk.corpus import stopwords\n",
    "from sklearn.model_selection import train_test_split,GridSearchCV,RandomizedSearchCV\n",
    "from sklearn.feature_extraction.text import TfidfVectorizer\n",
    "from sklearn.metrics import mean_squared_log_error,mean_squared_error,roc_auc_score\n",
    "from sklearn import metrics\n",
    "from sklearn.linear_model import SGDRegressor,LinearRegression,Lasso,Ridge\n",
    "from sklearn.ensemble import RandomForestRegressor,GradientBoostingClassifier\n",
    "from sklearn.preprocessing import StandardScaler,MinMaxScaler\n",
    "import time\n",
    "import warnings\n",
    "warnings.simplefilter(action='ignore', category=FutureWarning)\n",
    "from sklearn.pipeline import Pipeline\n",
    "from math import sqrt\n",
    "from scipy.sparse import csr_matrix, hstack\n",
    "from sklearn.svm import SVR\n",
    "from sklearn import preprocessing\n",
    "import xgboost as xgb\n",
    "from sklearn.decomposition import PCA"
   ]
  },
  {
   "cell_type": "code",
   "execution_count": 7,
   "metadata": {},
   "outputs": [],
   "source": [
    "data = pd.read_csv('./Data_Train.csv')"
   ]
  },
  {
   "cell_type": "code",
   "execution_count": 8,
   "metadata": {},
   "outputs": [
    {
     "data": {
      "text/html": [
       "<div>\n",
       "<style scoped>\n",
       "    .dataframe tbody tr th:only-of-type {\n",
       "        vertical-align: middle;\n",
       "    }\n",
       "\n",
       "    .dataframe tbody tr th {\n",
       "        vertical-align: top;\n",
       "    }\n",
       "\n",
       "    .dataframe thead th {\n",
       "        text-align: right;\n",
       "    }\n",
       "</style>\n",
       "<table border=\"1\" class=\"dataframe\">\n",
       "  <thead>\n",
       "    <tr style=\"text-align: right;\">\n",
       "      <th></th>\n",
       "      <th>Unique_ID</th>\n",
       "      <th>Name</th>\n",
       "      <th>Genre</th>\n",
       "      <th>Country</th>\n",
       "      <th>Song_Name</th>\n",
       "      <th>Timestamp</th>\n",
       "      <th>Views</th>\n",
       "      <th>Comments</th>\n",
       "      <th>Likes</th>\n",
       "      <th>Popularity</th>\n",
       "      <th>Followers</th>\n",
       "    </tr>\n",
       "  </thead>\n",
       "  <tbody>\n",
       "    <tr>\n",
       "      <td>0</td>\n",
       "      <td>413890</td>\n",
       "      <td>Hardstyle</td>\n",
       "      <td>danceedm</td>\n",
       "      <td>AU</td>\n",
       "      <td>N-Vitral presents BOMBSQUAD - Poison Spitter (...</td>\n",
       "      <td>2018-03-30 15:24:45.000000</td>\n",
       "      <td>14017</td>\n",
       "      <td>4</td>\n",
       "      <td>499</td>\n",
       "      <td>97</td>\n",
       "      <td>119563</td>\n",
       "    </tr>\n",
       "    <tr>\n",
       "      <td>1</td>\n",
       "      <td>249453</td>\n",
       "      <td>Dj Aladdin</td>\n",
       "      <td>danceedm</td>\n",
       "      <td>AU</td>\n",
       "      <td>Dj Aladdin - Old School Hip Hop Quick Mix</td>\n",
       "      <td>2016-06-20 05:58:52.000000</td>\n",
       "      <td>1918</td>\n",
       "      <td>17</td>\n",
       "      <td>49</td>\n",
       "      <td>17</td>\n",
       "      <td>2141</td>\n",
       "    </tr>\n",
       "    <tr>\n",
       "      <td>2</td>\n",
       "      <td>681116</td>\n",
       "      <td>Maxximize On Air</td>\n",
       "      <td>danceedm</td>\n",
       "      <td>AU</td>\n",
       "      <td>Maxximize On Air - Mixed by Blasterjaxx - Epis...</td>\n",
       "      <td>2015-05-08 17:45:59.000000</td>\n",
       "      <td>9668</td>\n",
       "      <td>11</td>\n",
       "      <td>312</td>\n",
       "      <td>91</td>\n",
       "      <td>22248</td>\n",
       "    </tr>\n",
       "    <tr>\n",
       "      <td>3</td>\n",
       "      <td>387253</td>\n",
       "      <td>GR6 EXPLODE</td>\n",
       "      <td>rbsoul</td>\n",
       "      <td>AU</td>\n",
       "      <td>MC Yago - Tenho Compromisso (DJ R7)</td>\n",
       "      <td>2017-06-08 23:50:03.000000</td>\n",
       "      <td>113036</td>\n",
       "      <td>2</td>\n",
       "      <td>2,400</td>\n",
       "      <td>76</td>\n",
       "      <td>393655</td>\n",
       "    </tr>\n",
       "    <tr>\n",
       "      <td>4</td>\n",
       "      <td>1428029</td>\n",
       "      <td>Tritonal</td>\n",
       "      <td>danceedm</td>\n",
       "      <td>AU</td>\n",
       "      <td>Escape (feat. Steph Jones)</td>\n",
       "      <td>2016-09-17 20:50:19.000000</td>\n",
       "      <td>110024</td>\n",
       "      <td>81</td>\n",
       "      <td>3,031</td>\n",
       "      <td>699</td>\n",
       "      <td>201030</td>\n",
       "    </tr>\n",
       "  </tbody>\n",
       "</table>\n",
       "</div>"
      ],
      "text/plain": [
       "   Unique_ID              Name     Genre Country  \\\n",
       "0     413890         Hardstyle  danceedm      AU   \n",
       "1     249453        Dj Aladdin  danceedm      AU   \n",
       "2     681116  Maxximize On Air  danceedm      AU   \n",
       "3     387253       GR6 EXPLODE    rbsoul      AU   \n",
       "4    1428029          Tritonal  danceedm      AU   \n",
       "\n",
       "                                           Song_Name  \\\n",
       "0  N-Vitral presents BOMBSQUAD - Poison Spitter (...   \n",
       "1          Dj Aladdin - Old School Hip Hop Quick Mix   \n",
       "2  Maxximize On Air - Mixed by Blasterjaxx - Epis...   \n",
       "3                MC Yago - Tenho Compromisso (DJ R7)   \n",
       "4                         Escape (feat. Steph Jones)   \n",
       "\n",
       "                    Timestamp   Views  Comments  Likes Popularity  Followers  \n",
       "0  2018-03-30 15:24:45.000000   14017         4    499         97     119563  \n",
       "1  2016-06-20 05:58:52.000000    1918        17     49         17       2141  \n",
       "2  2015-05-08 17:45:59.000000    9668        11    312         91      22248  \n",
       "3  2017-06-08 23:50:03.000000  113036         2  2,400         76     393655  \n",
       "4  2016-09-17 20:50:19.000000  110024        81  3,031        699     201030  "
      ]
     },
     "execution_count": 8,
     "metadata": {},
     "output_type": "execute_result"
    }
   ],
   "source": [
    "data.head()"
   ]
  },
  {
   "cell_type": "code",
   "execution_count": 9,
   "metadata": {},
   "outputs": [],
   "source": [
    "data.drop(columns=['Unique_ID','Country','Name'],axis=1,inplace=True)"
   ]
  },
  {
   "cell_type": "code",
   "execution_count": 10,
   "metadata": {},
   "outputs": [
    {
     "data": {
      "text/html": [
       "<div>\n",
       "<style scoped>\n",
       "    .dataframe tbody tr th:only-of-type {\n",
       "        vertical-align: middle;\n",
       "    }\n",
       "\n",
       "    .dataframe tbody tr th {\n",
       "        vertical-align: top;\n",
       "    }\n",
       "\n",
       "    .dataframe thead th {\n",
       "        text-align: right;\n",
       "    }\n",
       "</style>\n",
       "<table border=\"1\" class=\"dataframe\">\n",
       "  <thead>\n",
       "    <tr style=\"text-align: right;\">\n",
       "      <th></th>\n",
       "      <th>Genre</th>\n",
       "      <th>Song_Name</th>\n",
       "      <th>Timestamp</th>\n",
       "      <th>Views</th>\n",
       "      <th>Comments</th>\n",
       "      <th>Likes</th>\n",
       "      <th>Popularity</th>\n",
       "      <th>Followers</th>\n",
       "    </tr>\n",
       "  </thead>\n",
       "  <tbody>\n",
       "    <tr>\n",
       "      <td>0</td>\n",
       "      <td>danceedm</td>\n",
       "      <td>N-Vitral presents BOMBSQUAD - Poison Spitter (...</td>\n",
       "      <td>2018-03-30 15:24:45.000000</td>\n",
       "      <td>14017</td>\n",
       "      <td>4</td>\n",
       "      <td>499</td>\n",
       "      <td>97</td>\n",
       "      <td>119563</td>\n",
       "    </tr>\n",
       "    <tr>\n",
       "      <td>1</td>\n",
       "      <td>danceedm</td>\n",
       "      <td>Dj Aladdin - Old School Hip Hop Quick Mix</td>\n",
       "      <td>2016-06-20 05:58:52.000000</td>\n",
       "      <td>1918</td>\n",
       "      <td>17</td>\n",
       "      <td>49</td>\n",
       "      <td>17</td>\n",
       "      <td>2141</td>\n",
       "    </tr>\n",
       "    <tr>\n",
       "      <td>2</td>\n",
       "      <td>danceedm</td>\n",
       "      <td>Maxximize On Air - Mixed by Blasterjaxx - Epis...</td>\n",
       "      <td>2015-05-08 17:45:59.000000</td>\n",
       "      <td>9668</td>\n",
       "      <td>11</td>\n",
       "      <td>312</td>\n",
       "      <td>91</td>\n",
       "      <td>22248</td>\n",
       "    </tr>\n",
       "    <tr>\n",
       "      <td>3</td>\n",
       "      <td>rbsoul</td>\n",
       "      <td>MC Yago - Tenho Compromisso (DJ R7)</td>\n",
       "      <td>2017-06-08 23:50:03.000000</td>\n",
       "      <td>113036</td>\n",
       "      <td>2</td>\n",
       "      <td>2,400</td>\n",
       "      <td>76</td>\n",
       "      <td>393655</td>\n",
       "    </tr>\n",
       "    <tr>\n",
       "      <td>4</td>\n",
       "      <td>danceedm</td>\n",
       "      <td>Escape (feat. Steph Jones)</td>\n",
       "      <td>2016-09-17 20:50:19.000000</td>\n",
       "      <td>110024</td>\n",
       "      <td>81</td>\n",
       "      <td>3,031</td>\n",
       "      <td>699</td>\n",
       "      <td>201030</td>\n",
       "    </tr>\n",
       "  </tbody>\n",
       "</table>\n",
       "</div>"
      ],
      "text/plain": [
       "      Genre                                          Song_Name  \\\n",
       "0  danceedm  N-Vitral presents BOMBSQUAD - Poison Spitter (...   \n",
       "1  danceedm          Dj Aladdin - Old School Hip Hop Quick Mix   \n",
       "2  danceedm  Maxximize On Air - Mixed by Blasterjaxx - Epis...   \n",
       "3    rbsoul                MC Yago - Tenho Compromisso (DJ R7)   \n",
       "4  danceedm                         Escape (feat. Steph Jones)   \n",
       "\n",
       "                    Timestamp   Views  Comments  Likes Popularity  Followers  \n",
       "0  2018-03-30 15:24:45.000000   14017         4    499         97     119563  \n",
       "1  2016-06-20 05:58:52.000000    1918        17     49         17       2141  \n",
       "2  2015-05-08 17:45:59.000000    9668        11    312         91      22248  \n",
       "3  2017-06-08 23:50:03.000000  113036         2  2,400         76     393655  \n",
       "4  2016-09-17 20:50:19.000000  110024        81  3,031        699     201030  "
      ]
     },
     "execution_count": 10,
     "metadata": {},
     "output_type": "execute_result"
    }
   ],
   "source": [
    "data.head()"
   ]
  },
  {
   "cell_type": "code",
   "execution_count": 11,
   "metadata": {},
   "outputs": [],
   "source": [
    "#data = pd.get_dummies(data,columns=['Genre'],drop_first=True)"
   ]
  },
  {
   "cell_type": "code",
   "execution_count": 12,
   "metadata": {},
   "outputs": [
    {
     "data": {
      "text/html": [
       "<div>\n",
       "<style scoped>\n",
       "    .dataframe tbody tr th:only-of-type {\n",
       "        vertical-align: middle;\n",
       "    }\n",
       "\n",
       "    .dataframe tbody tr th {\n",
       "        vertical-align: top;\n",
       "    }\n",
       "\n",
       "    .dataframe thead th {\n",
       "        text-align: right;\n",
       "    }\n",
       "</style>\n",
       "<table border=\"1\" class=\"dataframe\">\n",
       "  <thead>\n",
       "    <tr style=\"text-align: right;\">\n",
       "      <th></th>\n",
       "      <th>Genre</th>\n",
       "      <th>Song_Name</th>\n",
       "      <th>Timestamp</th>\n",
       "      <th>Views</th>\n",
       "      <th>Comments</th>\n",
       "      <th>Likes</th>\n",
       "      <th>Popularity</th>\n",
       "      <th>Followers</th>\n",
       "    </tr>\n",
       "  </thead>\n",
       "  <tbody>\n",
       "    <tr>\n",
       "      <td>0</td>\n",
       "      <td>danceedm</td>\n",
       "      <td>N-Vitral presents BOMBSQUAD - Poison Spitter (...</td>\n",
       "      <td>2018-03-30 15:24:45.000000</td>\n",
       "      <td>14017</td>\n",
       "      <td>4</td>\n",
       "      <td>499</td>\n",
       "      <td>97</td>\n",
       "      <td>119563</td>\n",
       "    </tr>\n",
       "    <tr>\n",
       "      <td>1</td>\n",
       "      <td>danceedm</td>\n",
       "      <td>Dj Aladdin - Old School Hip Hop Quick Mix</td>\n",
       "      <td>2016-06-20 05:58:52.000000</td>\n",
       "      <td>1918</td>\n",
       "      <td>17</td>\n",
       "      <td>49</td>\n",
       "      <td>17</td>\n",
       "      <td>2141</td>\n",
       "    </tr>\n",
       "    <tr>\n",
       "      <td>2</td>\n",
       "      <td>danceedm</td>\n",
       "      <td>Maxximize On Air - Mixed by Blasterjaxx - Epis...</td>\n",
       "      <td>2015-05-08 17:45:59.000000</td>\n",
       "      <td>9668</td>\n",
       "      <td>11</td>\n",
       "      <td>312</td>\n",
       "      <td>91</td>\n",
       "      <td>22248</td>\n",
       "    </tr>\n",
       "    <tr>\n",
       "      <td>3</td>\n",
       "      <td>rbsoul</td>\n",
       "      <td>MC Yago - Tenho Compromisso (DJ R7)</td>\n",
       "      <td>2017-06-08 23:50:03.000000</td>\n",
       "      <td>113036</td>\n",
       "      <td>2</td>\n",
       "      <td>2,400</td>\n",
       "      <td>76</td>\n",
       "      <td>393655</td>\n",
       "    </tr>\n",
       "    <tr>\n",
       "      <td>4</td>\n",
       "      <td>danceedm</td>\n",
       "      <td>Escape (feat. Steph Jones)</td>\n",
       "      <td>2016-09-17 20:50:19.000000</td>\n",
       "      <td>110024</td>\n",
       "      <td>81</td>\n",
       "      <td>3,031</td>\n",
       "      <td>699</td>\n",
       "      <td>201030</td>\n",
       "    </tr>\n",
       "  </tbody>\n",
       "</table>\n",
       "</div>"
      ],
      "text/plain": [
       "      Genre                                          Song_Name  \\\n",
       "0  danceedm  N-Vitral presents BOMBSQUAD - Poison Spitter (...   \n",
       "1  danceedm          Dj Aladdin - Old School Hip Hop Quick Mix   \n",
       "2  danceedm  Maxximize On Air - Mixed by Blasterjaxx - Epis...   \n",
       "3    rbsoul                MC Yago - Tenho Compromisso (DJ R7)   \n",
       "4  danceedm                         Escape (feat. Steph Jones)   \n",
       "\n",
       "                    Timestamp   Views  Comments  Likes Popularity  Followers  \n",
       "0  2018-03-30 15:24:45.000000   14017         4    499         97     119563  \n",
       "1  2016-06-20 05:58:52.000000    1918        17     49         17       2141  \n",
       "2  2015-05-08 17:45:59.000000    9668        11    312         91      22248  \n",
       "3  2017-06-08 23:50:03.000000  113036         2  2,400         76     393655  \n",
       "4  2016-09-17 20:50:19.000000  110024        81  3,031        699     201030  "
      ]
     },
     "execution_count": 12,
     "metadata": {},
     "output_type": "execute_result"
    }
   ],
   "source": [
    "data.head()"
   ]
  },
  {
   "cell_type": "code",
   "execution_count": 13,
   "metadata": {},
   "outputs": [
    {
     "data": {
      "text/plain": [
       "dayofweek\n",
       "0    464738.026194\n",
       "1    490431.424895\n",
       "2    492227.829528\n",
       "3    527652.001258\n",
       "4    712625.466029\n",
       "5    447178.314718\n",
       "6    603471.317145\n",
       "Name: Views, dtype: float64"
      ]
     },
     "metadata": {},
     "output_type": "display_data"
    },
    {
     "data": {
      "text/plain": [
       "weekend\n",
       "0    551470.332289\n",
       "1    517781.487123\n",
       "Name: Views, dtype: float64"
      ]
     },
     "metadata": {},
     "output_type": "display_data"
    }
   ],
   "source": [
    "data['Timestamp'] =pd.to_datetime(data['Timestamp'])\n",
    "data['dayofweek'] = data['Timestamp'].dt.dayofweek #but mostly people on weekend\n",
    "data['weekend'] = data['dayofweek'].apply(lambda x: 1 if (x>4)  else 0)\n",
    "display(data.groupby(['dayofweek'])['Views'].mean())\n",
    "display(data.groupby(['weekend'])['Views'].mean())"
   ]
  },
  {
   "cell_type": "code",
   "execution_count": 14,
   "metadata": {},
   "outputs": [
    {
     "data": {
      "text/html": [
       "<div>\n",
       "<style scoped>\n",
       "    .dataframe tbody tr th:only-of-type {\n",
       "        vertical-align: middle;\n",
       "    }\n",
       "\n",
       "    .dataframe tbody tr th {\n",
       "        vertical-align: top;\n",
       "    }\n",
       "\n",
       "    .dataframe thead th {\n",
       "        text-align: right;\n",
       "    }\n",
       "</style>\n",
       "<table border=\"1\" class=\"dataframe\">\n",
       "  <thead>\n",
       "    <tr style=\"text-align: right;\">\n",
       "      <th></th>\n",
       "      <th>Views</th>\n",
       "      <th>Comments</th>\n",
       "      <th>Followers</th>\n",
       "      <th>dayofweek</th>\n",
       "      <th>weekend</th>\n",
       "    </tr>\n",
       "  </thead>\n",
       "  <tbody>\n",
       "    <tr>\n",
       "      <td>count</td>\n",
       "      <td>7.845800e+04</td>\n",
       "      <td>78458.000000</td>\n",
       "      <td>7.845800e+04</td>\n",
       "      <td>78458.000000</td>\n",
       "      <td>78458.000000</td>\n",
       "    </tr>\n",
       "    <tr>\n",
       "      <td>mean</td>\n",
       "      <td>5.469686e+05</td>\n",
       "      <td>115.270973</td>\n",
       "      <td>4.787663e+05</td>\n",
       "      <td>2.579609</td>\n",
       "      <td>0.133626</td>\n",
       "    </tr>\n",
       "    <tr>\n",
       "      <td>std</td>\n",
       "      <td>3.883085e+06</td>\n",
       "      <td>724.614868</td>\n",
       "      <td>1.168120e+06</td>\n",
       "      <td>1.785213</td>\n",
       "      <td>0.340252</td>\n",
       "    </tr>\n",
       "    <tr>\n",
       "      <td>min</td>\n",
       "      <td>0.000000e+00</td>\n",
       "      <td>0.000000</td>\n",
       "      <td>1.000000e+00</td>\n",
       "      <td>0.000000</td>\n",
       "      <td>0.000000</td>\n",
       "    </tr>\n",
       "    <tr>\n",
       "      <td>25%</td>\n",
       "      <td>6.216500e+03</td>\n",
       "      <td>1.000000</td>\n",
       "      <td>1.770000e+04</td>\n",
       "      <td>1.000000</td>\n",
       "      <td>0.000000</td>\n",
       "    </tr>\n",
       "    <tr>\n",
       "      <td>50%</td>\n",
       "      <td>2.538650e+04</td>\n",
       "      <td>12.000000</td>\n",
       "      <td>8.768200e+04</td>\n",
       "      <td>3.000000</td>\n",
       "      <td>0.000000</td>\n",
       "    </tr>\n",
       "    <tr>\n",
       "      <td>75%</td>\n",
       "      <td>1.201342e+05</td>\n",
       "      <td>61.000000</td>\n",
       "      <td>3.936550e+05</td>\n",
       "      <td>4.000000</td>\n",
       "      <td>0.000000</td>\n",
       "    </tr>\n",
       "    <tr>\n",
       "      <td>max</td>\n",
       "      <td>1.994050e+08</td>\n",
       "      <td>104082.000000</td>\n",
       "      <td>9.789123e+06</td>\n",
       "      <td>6.000000</td>\n",
       "      <td>1.000000</td>\n",
       "    </tr>\n",
       "  </tbody>\n",
       "</table>\n",
       "</div>"
      ],
      "text/plain": [
       "              Views       Comments     Followers     dayofweek       weekend\n",
       "count  7.845800e+04   78458.000000  7.845800e+04  78458.000000  78458.000000\n",
       "mean   5.469686e+05     115.270973  4.787663e+05      2.579609      0.133626\n",
       "std    3.883085e+06     724.614868  1.168120e+06      1.785213      0.340252\n",
       "min    0.000000e+00       0.000000  1.000000e+00      0.000000      0.000000\n",
       "25%    6.216500e+03       1.000000  1.770000e+04      1.000000      0.000000\n",
       "50%    2.538650e+04      12.000000  8.768200e+04      3.000000      0.000000\n",
       "75%    1.201342e+05      61.000000  3.936550e+05      4.000000      0.000000\n",
       "max    1.994050e+08  104082.000000  9.789123e+06      6.000000      1.000000"
      ]
     },
     "execution_count": 14,
     "metadata": {},
     "output_type": "execute_result"
    }
   ],
   "source": [
    "data.describe()\n",
    "#if mean and median not equal outliers ??"
   ]
  },
  {
   "cell_type": "code",
   "execution_count": 15,
   "metadata": {},
   "outputs": [
    {
     "name": "stdout",
     "output_type": "stream",
     "text": [
      "<class 'pandas.core.frame.DataFrame'>\n",
      "RangeIndex: 78458 entries, 0 to 78457\n",
      "Data columns (total 10 columns):\n",
      "Genre         78458 non-null object\n",
      "Song_Name     78457 non-null object\n",
      "Timestamp     78458 non-null datetime64[ns]\n",
      "Views         78458 non-null int64\n",
      "Comments      78458 non-null int64\n",
      "Likes         78458 non-null object\n",
      "Popularity    78458 non-null object\n",
      "Followers     78458 non-null int64\n",
      "dayofweek     78458 non-null int64\n",
      "weekend       78458 non-null int64\n",
      "dtypes: datetime64[ns](1), int64(5), object(4)\n",
      "memory usage: 6.0+ MB\n"
     ]
    }
   ],
   "source": [
    "data.info()"
   ]
  },
  {
   "cell_type": "code",
   "execution_count": 16,
   "metadata": {},
   "outputs": [
    {
     "data": {
      "image/png": "[encoded data removed]",
      "text/plain": [
       "<Figure size 1008x576 with 25 Axes>"
      ]
     },
     "metadata": {
      "needs_background": "light"
     },
     "output_type": "display_data"
    }
   ],
   "source": [
    "pd.plotting.scatter_matrix(data, alpha=0.3, figsize=(14,8), diagonal='kde');"
   ]
  },
  {
   "cell_type": "code",
   "execution_count": 17,
   "metadata": {},
   "outputs": [
    {
     "data": {
      "text/plain": [
       "<matplotlib.axes._subplots.AxesSubplot at 0x1a3f4a1400>"
      ]
     },
     "execution_count": 17,
     "metadata": {},
     "output_type": "execute_result"
    },
    {
     "data": {
      "image/png": "[encoded data removed]",
      "text/plain": [
       "<Figure size 432x288 with 1 Axes>"
      ]
     },
     "metadata": {
      "needs_background": "light"
     },
     "output_type": "display_data"
    }
   ],
   "source": [
    "#sns.regplot(x=\"Likes\", y=\"Views\", data=data)\n",
    "#sns.regplot(x=\"Comments\", y=\"Views\", data=data)\n",
    "#sns.regplot(x=\"Popularity\", y=\"Views\", data=data)\n",
    "sns.regplot(x=\"Followers\", y=\"Views\", data=data)"
   ]
  },
  {
   "cell_type": "code",
   "execution_count": 18,
   "metadata": {},
   "outputs": [],
   "source": [
    "def popularityConverting(x):\n",
    "    if x[-1]=='K':\n",
    "        x= ''.join(x[:-1].split(','))\n",
    "        x=float(x)*1000\n",
    "    elif x[-1]=='M':\n",
    "        x= ''.join(x[:-1].split(','))\n",
    "        x=float(x)*1000000\n",
    "    else:\n",
    "        x= ''.join(x.split(','))\n",
    "    return x"
   ]
  },
  {
   "cell_type": "code",
   "execution_count": 19,
   "metadata": {},
   "outputs": [
    {
     "data": {
      "text/html": [
       "<div>\n",
       "<style scoped>\n",
       "    .dataframe tbody tr th:only-of-type {\n",
       "        vertical-align: middle;\n",
       "    }\n",
       "\n",
       "    .dataframe tbody tr th {\n",
       "        vertical-align: top;\n",
       "    }\n",
       "\n",
       "    .dataframe thead th {\n",
       "        text-align: right;\n",
       "    }\n",
       "</style>\n",
       "<table border=\"1\" class=\"dataframe\">\n",
       "  <thead>\n",
       "    <tr style=\"text-align: right;\">\n",
       "      <th></th>\n",
       "      <th>Genre</th>\n",
       "      <th>Song_Name</th>\n",
       "      <th>Timestamp</th>\n",
       "      <th>Views</th>\n",
       "      <th>Comments</th>\n",
       "      <th>Likes</th>\n",
       "      <th>Popularity</th>\n",
       "      <th>Followers</th>\n",
       "      <th>dayofweek</th>\n",
       "      <th>weekend</th>\n",
       "    </tr>\n",
       "  </thead>\n",
       "  <tbody>\n",
       "    <tr>\n",
       "      <td>0</td>\n",
       "      <td>danceedm</td>\n",
       "      <td>N-Vitral presents BOMBSQUAD - Poison Spitter (...</td>\n",
       "      <td>2018-03-30 15:24:45</td>\n",
       "      <td>14017</td>\n",
       "      <td>4</td>\n",
       "      <td>499.0</td>\n",
       "      <td>97.0</td>\n",
       "      <td>119563</td>\n",
       "      <td>4</td>\n",
       "      <td>0</td>\n",
       "    </tr>\n",
       "    <tr>\n",
       "      <td>1</td>\n",
       "      <td>danceedm</td>\n",
       "      <td>Dj Aladdin - Old School Hip Hop Quick Mix</td>\n",
       "      <td>2016-06-20 05:58:52</td>\n",
       "      <td>1918</td>\n",
       "      <td>17</td>\n",
       "      <td>49.0</td>\n",
       "      <td>17.0</td>\n",
       "      <td>2141</td>\n",
       "      <td>0</td>\n",
       "      <td>0</td>\n",
       "    </tr>\n",
       "    <tr>\n",
       "      <td>2</td>\n",
       "      <td>danceedm</td>\n",
       "      <td>Maxximize On Air - Mixed by Blasterjaxx - Epis...</td>\n",
       "      <td>2015-05-08 17:45:59</td>\n",
       "      <td>9668</td>\n",
       "      <td>11</td>\n",
       "      <td>312.0</td>\n",
       "      <td>91.0</td>\n",
       "      <td>22248</td>\n",
       "      <td>4</td>\n",
       "      <td>0</td>\n",
       "    </tr>\n",
       "    <tr>\n",
       "      <td>3</td>\n",
       "      <td>rbsoul</td>\n",
       "      <td>MC Yago - Tenho Compromisso (DJ R7)</td>\n",
       "      <td>2017-06-08 23:50:03</td>\n",
       "      <td>113036</td>\n",
       "      <td>2</td>\n",
       "      <td>2400.0</td>\n",
       "      <td>76.0</td>\n",
       "      <td>393655</td>\n",
       "      <td>3</td>\n",
       "      <td>0</td>\n",
       "    </tr>\n",
       "    <tr>\n",
       "      <td>4</td>\n",
       "      <td>danceedm</td>\n",
       "      <td>Escape (feat. Steph Jones)</td>\n",
       "      <td>2016-09-17 20:50:19</td>\n",
       "      <td>110024</td>\n",
       "      <td>81</td>\n",
       "      <td>3031.0</td>\n",
       "      <td>699.0</td>\n",
       "      <td>201030</td>\n",
       "      <td>5</td>\n",
       "      <td>1</td>\n",
       "    </tr>\n",
       "  </tbody>\n",
       "</table>\n",
       "</div>"
      ],
      "text/plain": [
       "      Genre                                          Song_Name  \\\n",
       "0  danceedm  N-Vitral presents BOMBSQUAD - Poison Spitter (...   \n",
       "1  danceedm          Dj Aladdin - Old School Hip Hop Quick Mix   \n",
       "2  danceedm  Maxximize On Air - Mixed by Blasterjaxx - Epis...   \n",
       "3    rbsoul                MC Yago - Tenho Compromisso (DJ R7)   \n",
       "4  danceedm                         Escape (feat. Steph Jones)   \n",
       "\n",
       "            Timestamp   Views  Comments   Likes  Popularity  Followers  \\\n",
       "0 2018-03-30 15:24:45   14017         4   499.0        97.0     119563   \n",
       "1 2016-06-20 05:58:52    1918        17    49.0        17.0       2141   \n",
       "2 2015-05-08 17:45:59    9668        11   312.0        91.0      22248   \n",
       "3 2017-06-08 23:50:03  113036         2  2400.0        76.0     393655   \n",
       "4 2016-09-17 20:50:19  110024        81  3031.0       699.0     201030   \n",
       "\n",
       "   dayofweek  weekend  \n",
       "0          4        0  \n",
       "1          0        0  \n",
       "2          4        0  \n",
       "3          3        0  \n",
       "4          5        1  "
      ]
     },
     "execution_count": 19,
     "metadata": {},
     "output_type": "execute_result"
    }
   ],
   "source": [
    "data['Popularity'] = data.Popularity.apply(popularityConverting)\n",
    "data['Popularity'] = data.Popularity.astype('float')\n",
    "data['Likes'] = data.Likes.apply(popularityConverting)\n",
    "data['Likes'] = data.Likes.astype('float')\n",
    "data.head()"
   ]
  },
  {
   "cell_type": "code",
   "execution_count": 20,
   "metadata": {},
   "outputs": [
    {
     "data": {
      "text/html": [
       "<div>\n",
       "<style scoped>\n",
       "    .dataframe tbody tr th:only-of-type {\n",
       "        vertical-align: middle;\n",
       "    }\n",
       "\n",
       "    .dataframe tbody tr th {\n",
       "        vertical-align: top;\n",
       "    }\n",
       "\n",
       "    .dataframe thead th {\n",
       "        text-align: right;\n",
       "    }\n",
       "</style>\n",
       "<table border=\"1\" class=\"dataframe\">\n",
       "  <thead>\n",
       "    <tr style=\"text-align: right;\">\n",
       "      <th></th>\n",
       "      <th>Views</th>\n",
       "      <th>Comments</th>\n",
       "      <th>Likes</th>\n",
       "      <th>Popularity</th>\n",
       "      <th>Followers</th>\n",
       "      <th>dayofweek</th>\n",
       "      <th>weekend</th>\n",
       "    </tr>\n",
       "  </thead>\n",
       "  <tbody>\n",
       "    <tr>\n",
       "      <td>Views</td>\n",
       "      <td>1.000000</td>\n",
       "      <td>0.679104</td>\n",
       "      <td>0.980132</td>\n",
       "      <td>0.834635</td>\n",
       "      <td>0.103603</td>\n",
       "      <td>0.014646</td>\n",
       "      <td>-0.002952</td>\n",
       "    </tr>\n",
       "    <tr>\n",
       "      <td>Comments</td>\n",
       "      <td>0.679104</td>\n",
       "      <td>1.000000</td>\n",
       "      <td>0.656645</td>\n",
       "      <td>0.641815</td>\n",
       "      <td>0.085034</td>\n",
       "      <td>-0.001844</td>\n",
       "      <td>-0.002394</td>\n",
       "    </tr>\n",
       "    <tr>\n",
       "      <td>Likes</td>\n",
       "      <td>0.980132</td>\n",
       "      <td>0.656645</td>\n",
       "      <td>1.000000</td>\n",
       "      <td>0.869048</td>\n",
       "      <td>0.110321</td>\n",
       "      <td>0.014117</td>\n",
       "      <td>-0.006747</td>\n",
       "    </tr>\n",
       "    <tr>\n",
       "      <td>Popularity</td>\n",
       "      <td>0.834635</td>\n",
       "      <td>0.641815</td>\n",
       "      <td>0.869048</td>\n",
       "      <td>1.000000</td>\n",
       "      <td>0.138454</td>\n",
       "      <td>-0.006822</td>\n",
       "      <td>-0.013047</td>\n",
       "    </tr>\n",
       "    <tr>\n",
       "      <td>Followers</td>\n",
       "      <td>0.103603</td>\n",
       "      <td>0.085034</td>\n",
       "      <td>0.110321</td>\n",
       "      <td>0.138454</td>\n",
       "      <td>1.000000</td>\n",
       "      <td>-0.031933</td>\n",
       "      <td>-0.076020</td>\n",
       "    </tr>\n",
       "    <tr>\n",
       "      <td>dayofweek</td>\n",
       "      <td>0.014646</td>\n",
       "      <td>-0.001844</td>\n",
       "      <td>0.014117</td>\n",
       "      <td>-0.006822</td>\n",
       "      <td>-0.031933</td>\n",
       "      <td>1.000000</td>\n",
       "      <td>0.631842</td>\n",
       "    </tr>\n",
       "    <tr>\n",
       "      <td>weekend</td>\n",
       "      <td>-0.002952</td>\n",
       "      <td>-0.002394</td>\n",
       "      <td>-0.006747</td>\n",
       "      <td>-0.013047</td>\n",
       "      <td>-0.076020</td>\n",
       "      <td>0.631842</td>\n",
       "      <td>1.000000</td>\n",
       "    </tr>\n",
       "  </tbody>\n",
       "</table>\n",
       "</div>"
      ],
      "text/plain": [
       "               Views  Comments     Likes  Popularity  Followers  dayofweek  \\\n",
       "Views       1.000000  0.679104  0.980132    0.834635   0.103603   0.014646   \n",
       "Comments    0.679104  1.000000  0.656645    0.641815   0.085034  -0.001844   \n",
       "Likes       0.980132  0.656645  1.000000    0.869048   0.110321   0.014117   \n",
       "Popularity  0.834635  0.641815  0.869048    1.000000   0.138454  -0.006822   \n",
       "Followers   0.103603  0.085034  0.110321    0.138454   1.000000  -0.031933   \n",
       "dayofweek   0.014646 -0.001844  0.014117   -0.006822  -0.031933   1.000000   \n",
       "weekend    -0.002952 -0.002394 -0.006747   -0.013047  -0.076020   0.631842   \n",
       "\n",
       "             weekend  \n",
       "Views      -0.002952  \n",
       "Comments   -0.002394  \n",
       "Likes      -0.006747  \n",
       "Popularity -0.013047  \n",
       "Followers  -0.076020  \n",
       "dayofweek   0.631842  \n",
       "weekend     1.000000  "
      ]
     },
     "execution_count": 20,
     "metadata": {},
     "output_type": "execute_result"
    }
   ],
   "source": [
    "data.corr()"
   ]
  },
  {
   "cell_type": "code",
   "execution_count": 21,
   "metadata": {},
   "outputs": [],
   "source": [
    "def text_process(text):\n",
    "    \n",
    "    text = text.translate(str.maketrans('', '', string.punctuation))\n",
    "    text = [word for word in text.split() if word.lower() not in stopwords.words('english')]\n",
    "    \n",
    "    return \" \".join(text)\n",
    "data['Song_Name']=data['Song_Name'].astype('str')\n",
    "data['Song_Name'] = data['Song_Name'].apply(text_process)"
   ]
  },
  {
   "cell_type": "code",
   "execution_count": 22,
   "metadata": {},
   "outputs": [
    {
     "data": {
      "text/plain": [
       "0    NVitral presents BOMBSQUAD Poison Spitter Snak...\n",
       "1              Dj Aladdin Old School Hip Hop Quick Mix\n",
       "2          Maxximize Air Mixed Blasterjaxx Episode 048\n",
       "3                      MC Yago Tenho Compromisso DJ R7\n",
       "4                              Escape feat Steph Jones\n",
       "Name: Song_Name, dtype: object"
      ]
     },
     "execution_count": 22,
     "metadata": {},
     "output_type": "execute_result"
    }
   ],
   "source": [
    "data['Song_Name'].head()"
   ]
  },
  {
   "cell_type": "code",
   "execution_count": 23,
   "metadata": {},
   "outputs": [
    {
     "data": {
      "text/html": [
       "<div>\n",
       "<style scoped>\n",
       "    .dataframe tbody tr th:only-of-type {\n",
       "        vertical-align: middle;\n",
       "    }\n",
       "\n",
       "    .dataframe tbody tr th {\n",
       "        vertical-align: top;\n",
       "    }\n",
       "\n",
       "    .dataframe thead th {\n",
       "        text-align: right;\n",
       "    }\n",
       "</style>\n",
       "<table border=\"1\" class=\"dataframe\">\n",
       "  <thead>\n",
       "    <tr style=\"text-align: right;\">\n",
       "      <th></th>\n",
       "      <th>Genre</th>\n",
       "      <th>Song_Name</th>\n",
       "      <th>Timestamp</th>\n",
       "      <th>Views</th>\n",
       "      <th>Comments</th>\n",
       "      <th>Likes</th>\n",
       "      <th>Popularity</th>\n",
       "      <th>Followers</th>\n",
       "      <th>dayofweek</th>\n",
       "      <th>weekend</th>\n",
       "    </tr>\n",
       "  </thead>\n",
       "  <tbody>\n",
       "    <tr>\n",
       "      <td>8583</td>\n",
       "      <td>rock</td>\n",
       "      <td>Fairy King</td>\n",
       "      <td>1973-01-01</td>\n",
       "      <td>141</td>\n",
       "      <td>1</td>\n",
       "      <td>5.0</td>\n",
       "      <td>0.0</td>\n",
       "      <td>70299</td>\n",
       "      <td>0</td>\n",
       "      <td>0</td>\n",
       "    </tr>\n",
       "    <tr>\n",
       "      <td>14326</td>\n",
       "      <td>rock</td>\n",
       "      <td>Liar BBC</td>\n",
       "      <td>1973-01-01</td>\n",
       "      <td>87</td>\n",
       "      <td>0</td>\n",
       "      <td>0.0</td>\n",
       "      <td>0.0</td>\n",
       "      <td>70299</td>\n",
       "      <td>0</td>\n",
       "      <td>0</td>\n",
       "    </tr>\n",
       "    <tr>\n",
       "      <td>14653</td>\n",
       "      <td>rock</td>\n",
       "      <td>Keep Alive</td>\n",
       "      <td>1973-01-01</td>\n",
       "      <td>1086</td>\n",
       "      <td>0</td>\n",
       "      <td>14.0</td>\n",
       "      <td>0.0</td>\n",
       "      <td>70299</td>\n",
       "      <td>0</td>\n",
       "      <td>0</td>\n",
       "    </tr>\n",
       "    <tr>\n",
       "      <td>49988</td>\n",
       "      <td>rock</td>\n",
       "      <td>Right</td>\n",
       "      <td>1973-01-01</td>\n",
       "      <td>618</td>\n",
       "      <td>0</td>\n",
       "      <td>14.0</td>\n",
       "      <td>0.0</td>\n",
       "      <td>70299</td>\n",
       "      <td>0</td>\n",
       "      <td>0</td>\n",
       "    </tr>\n",
       "    <tr>\n",
       "      <td>61074</td>\n",
       "      <td>rock</td>\n",
       "      <td>Great King Rat</td>\n",
       "      <td>1973-01-01</td>\n",
       "      <td>104</td>\n",
       "      <td>0</td>\n",
       "      <td>0.0</td>\n",
       "      <td>0.0</td>\n",
       "      <td>70299</td>\n",
       "      <td>0</td>\n",
       "      <td>0</td>\n",
       "    </tr>\n",
       "  </tbody>\n",
       "</table>\n",
       "</div>"
      ],
      "text/plain": [
       "      Genre       Song_Name  Timestamp  Views  Comments  Likes  Popularity  \\\n",
       "8583   rock      Fairy King 1973-01-01    141         1    5.0         0.0   \n",
       "14326  rock        Liar BBC 1973-01-01     87         0    0.0         0.0   \n",
       "14653  rock      Keep Alive 1973-01-01   1086         0   14.0         0.0   \n",
       "49988  rock           Right 1973-01-01    618         0   14.0         0.0   \n",
       "61074  rock  Great King Rat 1973-01-01    104         0    0.0         0.0   \n",
       "\n",
       "       Followers  dayofweek  weekend  \n",
       "8583       70299          0        0  \n",
       "14326      70299          0        0  \n",
       "14653      70299          0        0  \n",
       "49988      70299          0        0  \n",
       "61074      70299          0        0  "
      ]
     },
     "metadata": {},
     "output_type": "display_data"
    },
    {
     "data": {
      "text/html": [
       "<div>\n",
       "<style scoped>\n",
       "    .dataframe tbody tr th:only-of-type {\n",
       "        vertical-align: middle;\n",
       "    }\n",
       "\n",
       "    .dataframe tbody tr th {\n",
       "        vertical-align: top;\n",
       "    }\n",
       "\n",
       "    .dataframe thead th {\n",
       "        text-align: right;\n",
       "    }\n",
       "</style>\n",
       "<table border=\"1\" class=\"dataframe\">\n",
       "  <thead>\n",
       "    <tr style=\"text-align: right;\">\n",
       "      <th></th>\n",
       "      <th>Genre</th>\n",
       "      <th>Song_Name</th>\n",
       "      <th>Timestamp</th>\n",
       "      <th>Views</th>\n",
       "      <th>Comments</th>\n",
       "      <th>Likes</th>\n",
       "      <th>Popularity</th>\n",
       "      <th>Followers</th>\n",
       "      <th>dayofweek</th>\n",
       "      <th>weekend</th>\n",
       "    </tr>\n",
       "  </thead>\n",
       "  <tbody>\n",
       "    <tr>\n",
       "      <td>72376</td>\n",
       "      <td>danceedm</td>\n",
       "      <td>Sam Feldt Heartfeldt Radio 164</td>\n",
       "      <td>2019-02-25 08:00:06</td>\n",
       "      <td>35</td>\n",
       "      <td>0</td>\n",
       "      <td>7.0</td>\n",
       "      <td>3.0</td>\n",
       "      <td>23043</td>\n",
       "      <td>0</td>\n",
       "      <td>0</td>\n",
       "    </tr>\n",
       "  </tbody>\n",
       "</table>\n",
       "</div>"
      ],
      "text/plain": [
       "          Genre                       Song_Name           Timestamp  Views  \\\n",
       "72376  danceedm  Sam Feldt Heartfeldt Radio 164 2019-02-25 08:00:06     35   \n",
       "\n",
       "       Comments  Likes  Popularity  Followers  dayofweek  weekend  \n",
       "72376         0    7.0         3.0      23043          0        0  "
      ]
     },
     "metadata": {},
     "output_type": "display_data"
    },
    {
     "data": {
      "text/plain": [
       "Timestamp            Views\n",
       "1973-01-01 00:00:00  87       1\n",
       "                     104      1\n",
       "                     141      1\n",
       "                     618      1\n",
       "                     1086     1\n",
       "                             ..\n",
       "2019-02-25 03:59:34  1        1\n",
       "2019-02-25 04:14:28  5        1\n",
       "2019-02-25 04:15:07  1        1\n",
       "2019-02-25 07:49:53  60       1\n",
       "2019-02-25 08:00:06  35       1\n",
       "Name: Views, Length: 78193, dtype: int64"
      ]
     },
     "execution_count": 23,
     "metadata": {},
     "output_type": "execute_result"
    }
   ],
   "source": [
    "#trying for time as feature\n",
    "display(data[data['Timestamp']==data['Timestamp'].min()])\n",
    "display(data[data['Timestamp']==data['Timestamp'].max()])\n",
    "data.sort_values(by=['Timestamp']).groupby(['Timestamp'])['Views'].value_counts()"
   ]
  },
  {
   "cell_type": "code",
   "execution_count": 24,
   "metadata": {},
   "outputs": [],
   "source": [
    "features_data =data.loc[:,['Comments', 'Likes', 'Popularity', 'Followers','weekend']]\n",
    "X = data.loc[:,['Comments', 'Likes', 'Popularity', 'Followers','weekend']]\n",
    "y = data['Views']\n",
    "X= StandardScaler().fit(X).transform(X)"
   ]
  },
  {
   "cell_type": "code",
   "execution_count": 25,
   "metadata": {},
   "outputs": [
    {
     "data": {
      "image/png": "[encoded data removed]",
      "text/plain": [
       "<Figure size 1008x576 with 36 Axes>"
      ]
     },
     "metadata": {
      "needs_background": "light"
     },
     "output_type": "display_data"
    }
   ],
   "source": [
    "pd.plotting.scatter_matrix(data.loc[:,['Views','Comments', 'Likes', 'Popularity', 'Followers','weekend']], alpha=0.3, figsize=(14,8), diagonal='kde');"
   ]
  },
  {
   "cell_type": "code",
   "execution_count": 26,
   "metadata": {},
   "outputs": [],
   "source": [
    "X_train, X_test, y_train, y_test = train_test_split(X, y, test_size=0.3, random_state=42)"
   ]
  },
  {
   "cell_type": "code",
   "execution_count": 22,
   "metadata": {},
   "outputs": [
    {
     "name": "stdout",
     "output_type": "stream",
     "text": [
      "[0.49091248 0.21289662 0.18268323 0.08982876 0.02367892]\n",
      "[0.49091248 0.70380909 0.88649232 0.97632108 1.        ]\n"
     ]
    },
    {
     "data": {
      "image/png": "[encoded data removed]",
      "text/plain": [
       "<Figure size 720x432 with 1 Axes>"
      ]
     },
     "metadata": {
      "needs_background": "light"
     },
     "output_type": "display_data"
    }
   ],
   "source": [
    "# Build PCA using standarized trained data\n",
    "pca = PCA(n_components=None, svd_solver=\"full\")\n",
    "pca.fit(StandardScaler().fit_transform(X_train))\n",
    "print(pca.explained_variance_ratio_)\n",
    "cum_var_exp = np.cumsum(pca.explained_variance_ratio_)\n",
    "plt.figure(figsize=(10, 6))\n",
    "plt.bar(range(1, 6), pca.explained_variance_ratio_, align=\"center\",\n",
    "        color='red', label=\"Individual explained variance\")\n",
    "plt.step(range(1, 6), cum_var_exp, where=\"mid\", label=\"Cumulative explained variance\")\n",
    "plt.xticks(range(1, 6))\n",
    "plt.legend(loc=\"best\")\n",
    "plt.xlabel(\"Principal component index\", {\"fontsize\": 14})\n",
    "plt.ylabel(\"Explained variance ratio\", {\"fontsize\": 14})\n",
    "plt.title(\"PCA on training data\", {\"fontsize\": 16});\n",
    "print(cum_var_exp)"
   ]
  },
  {
   "cell_type": "code",
   "execution_count": 23,
   "metadata": {},
   "outputs": [
    {
     "data": {
      "image/png": "[encoded data removed]",
      "text/plain": [
       "<Figure size 432x288 with 1 Axes>"
      ]
     },
     "metadata": {
      "needs_background": "light"
     },
     "output_type": "display_data"
    },
    {
     "name": "stdout",
     "output_type": "stream",
     "text": [
      "RMSE: 719485.646652\n"
     ]
    }
   ],
   "source": [
    "lr_regressor =LinearRegression()\n",
    "lr_regressor.fit(X_train, y_train)\n",
    "preds = lr_regressor.predict(X_test)\n",
    "plt.scatter(y_test,preds)\n",
    "plt.grid()\n",
    "plt.xlabel('Actual y')\n",
    "plt.ylabel('Predicted y')\n",
    "plt.title('scatter plot between actual y and predicted y')\n",
    "plt.show()\n",
    "rmse = np.sqrt(mean_squared_error(y_test, preds))\n",
    "print(\"RMSE: %f\" % (rmse))\n"
   ]
  },
  {
   "cell_type": "code",
   "execution_count": 24,
   "metadata": {},
   "outputs": [
    {
     "name": "stdout",
     "output_type": "stream",
     "text": [
      "tuned hpyerparameters :(best parameters)  {'alpha': 0.001}\n",
      "accuracy : 0.9612988694176566\n"
     ]
    }
   ],
   "source": [
    "lasso_params = {'alpha':[0.005,0.001, 0.02, 0.03, 0.05, 0.06]}\n",
    "laso_regressor=Lasso()\n",
    "laso_regressor_cv=GridSearchCV(laso_regressor,lasso_params,cv=5)\n",
    "laso_regressor_cv.fit(X,y)\n",
    "print(\"tuned hpyerparameters :(best parameters) \",laso_regressor_cv.best_params_)\n",
    "print(\"accuracy :\",laso_regressor_cv.best_score_)"
   ]
  },
  {
   "cell_type": "code",
   "execution_count": 25,
   "metadata": {},
   "outputs": [
    {
     "data": {
      "image/png": "[encoded data removed]",
      "text/plain": [
       "<Figure size 432x288 with 1 Axes>"
      ]
     },
     "metadata": {
      "needs_background": "light"
     },
     "output_type": "display_data"
    },
    {
     "name": "stdout",
     "output_type": "stream",
     "text": [
      "RMSE: 719485.646489\n"
     ]
    }
   ],
   "source": [
    "laso_regressor =Lasso(alpha= 0.001)\n",
    "laso_regressor.fit(X_train, y_train)\n",
    "preds = laso_regressor.predict(X_test)\n",
    "plt.scatter(y_test,preds)\n",
    "plt.grid()\n",
    "plt.xlabel('Actual y')\n",
    "plt.ylabel('Predicted y')\n",
    "plt.title('scatter plot between actual y and predicted y')\n",
    "plt.show()\n",
    "rmse = np.sqrt(mean_squared_error(y_test, preds))\n",
    "print(\"RMSE: %f\" % (rmse))"
   ]
  },
  {
   "cell_type": "code",
   "execution_count": 26,
   "metadata": {},
   "outputs": [
    {
     "name": "stdout",
     "output_type": "stream",
     "text": [
      "tuned hpyerparameters :(best parameters)  {'max_features': 0.4, 'min_samples_leaf': 1, 'n_estimators': 100}\n",
      "accuracy : 0.9592996596958814\n"
     ]
    }
   ],
   "source": [
    "rf_regressor= RandomForestRegressor()\n",
    "hyperparam_grid={\"n_estimators\": [10, 50, 100],\"max_features\": [\"sqrt\", \"log2\", 0.4, 0.5],\\\n",
    "                 \"min_samples_leaf\": [1, 3, 5]}\n",
    "rf_regressor_cv = GridSearchCV(rf_regressor,hyperparam_grid,cv=2)\n",
    "rf_regressor_cv.fit(X,y)\n",
    "print(\"tuned hpyerparameters :(best parameters) \",rf_regressor_cv.best_params_)\n",
    "print(\"accuracy :\",rf_regressor_cv.best_score_)"
   ]
  },
  {
   "cell_type": "code",
   "execution_count": 27,
   "metadata": {},
   "outputs": [
    {
     "data": {
      "image/png": "[encoded data removed]",
      "text/plain": [
       "<Figure size 432x288 with 1 Axes>"
      ]
     },
     "metadata": {
      "needs_background": "light"
     },
     "output_type": "display_data"
    },
    {
     "name": "stdout",
     "output_type": "stream",
     "text": [
      "RMSE: 655044.023308\n"
     ]
    }
   ],
   "source": [
    "rf_regressor=RandomForestRegressor(max_features= 0.4, min_samples_leaf= 1, n_estimators=100)\n",
    "rf_regressor.fit(X_train,y_train)\n",
    "\n",
    "preds = rf_regressor.predict(X_test)\n",
    "rmse = np.sqrt(mean_squared_error(y_test, preds))\n",
    "plt.scatter(y_test,preds)\n",
    "plt.grid()\n",
    "plt.xlabel('Actual y')\n",
    "plt.ylabel('Predicted y')\n",
    "plt.title('scatter plot between actual y and predicted y')\n",
    "plt.show()\n",
    "print(\"RMSE: %f\" % (rmse))"
   ]
  },
  {
   "cell_type": "code",
   "execution_count": 28,
   "metadata": {},
   "outputs": [
    {
     "name": "stdout",
     "output_type": "stream",
     "text": [
      "[4 3 0 2 1]\n",
      "[1 2 0 3 4]\n"
     ]
    },
    {
     "data": {
      "image/png": "[encoded data removed]",
      "text/plain": [
       "<Figure size 576x360 with 1 Axes>"
      ]
     },
     "metadata": {
      "needs_background": "light"
     },
     "output_type": "display_data"
    }
   ],
   "source": [
    "feature_importance = rf_regressor.feature_importances_\n",
    "print(np.argsort(rf_regressor.feature_importances_))\n",
    "indices = np.argsort(rf_regressor.feature_importances_)[::-1]\n",
    "print(indices)\n",
    "plt.figure(figsize=(8, 5))\n",
    "plt.xticks(range(1, 6), features_data.columns[indices], rotation=90)\n",
    "plt.bar(range(1, 6), feature_importance[indices], align=\"center\")\n",
    "plt.title(\"Feature Importance\", {\"fontsize\": 16});"
   ]
  },
  {
   "cell_type": "code",
   "execution_count": 29,
   "metadata": {},
   "outputs": [
    {
     "name": "stdout",
     "output_type": "stream",
     "text": [
      "[17:53:23] WARNING: src/objective/regression_obj.cu:152: reg:linear is now deprecated in favor of reg:squarederror.\n",
      "[17:53:35] WARNING: src/objective/regression_obj.cu:152: reg:linear is now deprecated in favor of reg:squarederror.\n",
      "[17:53:47] WARNING: src/objective/regression_obj.cu:152: reg:linear is now deprecated in favor of reg:squarederror.\n",
      "[17:53:49] WARNING: src/objective/regression_obj.cu:152: reg:linear is now deprecated in favor of reg:squarederror.\n",
      "[17:53:51] WARNING: src/objective/regression_obj.cu:152: reg:linear is now deprecated in favor of reg:squarederror.\n",
      "[17:53:57] WARNING: src/objective/regression_obj.cu:152: reg:linear is now deprecated in favor of reg:squarederror.\n",
      "[17:54:02] WARNING: src/objective/regression_obj.cu:152: reg:linear is now deprecated in favor of reg:squarederror.\n",
      "[17:54:06] WARNING: src/objective/regression_obj.cu:152: reg:linear is now deprecated in favor of reg:squarederror.\n",
      "[17:54:10] WARNING: src/objective/regression_obj.cu:152: reg:linear is now deprecated in favor of reg:squarederror.\n",
      "[17:54:11] WARNING: src/objective/regression_obj.cu:152: reg:linear is now deprecated in favor of reg:squarederror.\n",
      "[17:54:12] WARNING: src/objective/regression_obj.cu:152: reg:linear is now deprecated in favor of reg:squarederror.\n",
      "[17:54:22] WARNING: src/objective/regression_obj.cu:152: reg:linear is now deprecated in favor of reg:squarederror.\n",
      "[17:54:32] WARNING: src/objective/regression_obj.cu:152: reg:linear is now deprecated in favor of reg:squarederror.\n",
      "[17:54:38] WARNING: src/objective/regression_obj.cu:152: reg:linear is now deprecated in favor of reg:squarederror.\n",
      "[17:54:43] WARNING: src/objective/regression_obj.cu:152: reg:linear is now deprecated in favor of reg:squarederror.\n",
      "[17:54:47] WARNING: src/objective/regression_obj.cu:152: reg:linear is now deprecated in favor of reg:squarederror.\n",
      "[17:54:51] WARNING: src/objective/regression_obj.cu:152: reg:linear is now deprecated in favor of reg:squarederror.\n",
      "[17:54:52] WARNING: src/objective/regression_obj.cu:152: reg:linear is now deprecated in favor of reg:squarederror.\n",
      "[17:54:53] WARNING: src/objective/regression_obj.cu:152: reg:linear is now deprecated in favor of reg:squarederror.\n",
      "[17:54:54] WARNING: src/objective/regression_obj.cu:152: reg:linear is now deprecated in favor of reg:squarederror.\n",
      "[17:54:55] WARNING: src/objective/regression_obj.cu:152: reg:linear is now deprecated in favor of reg:squarederror.\n"
     ]
    },
    {
     "data": {
      "text/plain": [
       "XGBRegressor(base_score=0.5, booster='gbtree', colsample_bylevel=1,\n",
       "             colsample_bynode=1, colsample_bytree=1, gamma=0,\n",
       "             importance_type='gain', learning_rate=0.15, max_delta_step=0,\n",
       "             max_depth=10, min_child_weight=1, missing=None, n_estimators=500,\n",
       "             n_jobs=1, nthread=None, objective='reg:linear', random_state=0,\n",
       "             reg_alpha=0, reg_lambda=1, scale_pos_weight=1, seed=None,\n",
       "             silent=None, subsample=1, verbosity=1)"
      ]
     },
     "execution_count": 29,
     "metadata": {},
     "output_type": "execute_result"
    }
   ],
   "source": [
    "xgb_regressor=xgb.XGBRegressor()\n",
    "\n",
    "n_estimators = [100, 500]\n",
    "max_depth = [2, 3, 5, 10, 15]\n",
    "learning_rate=[0.05,0.1,0.15,0.20]\n",
    "min_child_weight=[1,2,3,4]\n",
    "\n",
    "# Define the grid of hyperparameters to search\n",
    "hyperparameter_grid = {\n",
    "    'n_estimators': n_estimators,\n",
    "    'max_depth':max_depth,\n",
    "    'learning_rate':learning_rate,\n",
    "    'min_child_weight':min_child_weight,\n",
    "    }\n",
    "\n",
    "# Set up the random search with 4-fold cross validation\n",
    "xgb_regressor_cv = RandomizedSearchCV(estimator=xgb_regressor,\n",
    "            param_distributions=hyperparameter_grid,\n",
    "            cv=2,\n",
    "            scoring = 'neg_mean_absolute_error',\n",
    "            return_train_score = True,\n",
    "            random_state=42)\n",
    "xgb_regressor_cv.fit(X_train,y_train)\n",
    "xgb_regressor_cv.best_estimator_"
   ]
  },
  {
   "cell_type": "code",
   "execution_count": 30,
   "metadata": {},
   "outputs": [
    {
     "name": "stdout",
     "output_type": "stream",
     "text": [
      "[17:55:14] WARNING: src/objective/regression_obj.cu:152: reg:linear is now deprecated in favor of reg:squarederror.\n"
     ]
    },
    {
     "data": {
      "image/png": "[encoded data removed]",
      "text/plain": [
       "<Figure size 432x288 with 1 Axes>"
      ]
     },
     "metadata": {
      "needs_background": "light"
     },
     "output_type": "display_data"
    },
    {
     "name": "stdout",
     "output_type": "stream",
     "text": [
      "RMSE: 606607.880926\n"
     ]
    }
   ],
   "source": [
    "#regressor=xgb.XGBRegressor(objective ='reg:squarederror',n_estimators=100, min_child_weight=3, max_depth=10, learning_rate=0.1, booster='gbtree', base_score=0.25)\n",
    "xgb_regressor= xgb.XGBRegressor(base_score=0.5, booster='gbtree', colsample_bylevel=1,\n",
    "             colsample_bynode=1, colsample_bytree=1, gamma=0,\n",
    "             importance_type='gain', learning_rate=0.15, max_delta_step=0,\n",
    "             max_depth=10, min_child_weight=1, missing=None, n_estimators=500,\n",
    "             n_jobs=1, nthread=None, objective='reg:linear', random_state=0,\n",
    "             reg_alpha=0, reg_lambda=1, scale_pos_weight=1, seed=None,\n",
    "             silent=None, subsample=1, verbosity=1)\n",
    "xgb_regressor.fit(X_train,y_train)\n",
    "\n",
    "preds = xgb_regressor.predict(X_test)\n",
    "rmse = np.sqrt(mean_squared_error(y_test, preds))\n",
    "plt.scatter(y_test,preds)\n",
    "plt.grid()\n",
    "plt.xlabel('Actual y')\n",
    "plt.ylabel('Predicted y')\n",
    "plt.title('scatter plot between actual y and predicted y')\n",
    "plt.show()\n",
    "print(\"RMSE: %f\" % (rmse))"
   ]
  },
  {
   "cell_type": "code",
   "execution_count": 32,
   "metadata": {},
   "outputs": [
    {
     "data": {
      "text/plain": [
       "array([0.00872602, 0.9758477 , 0.00818199, 0.0047062 , 0.00253805],\n",
       "      dtype=float32)"
      ]
     },
     "execution_count": 32,
     "metadata": {},
     "output_type": "execute_result"
    }
   ],
   "source": [
    "#outliers\n",
    "xgb_regressor.feature_importances_"
   ]
  },
  {
   "cell_type": "code",
   "execution_count": 33,
   "metadata": {},
   "outputs": [
    {
     "name": "stdout",
     "output_type": "stream",
     "text": [
      "[4 3 2 0 1]\n",
      "[1 0 2 3 4]\n"
     ]
    },
    {
     "data": {
      "image/png": "[encoded data removed]",
      "text/plain": [
       "<Figure size 576x360 with 1 Axes>"
      ]
     },
     "metadata": {
      "needs_background": "light"
     },
     "output_type": "display_data"
    }
   ],
   "source": [
    "feature_importance = xgb_regressor.feature_importances_\n",
    "print(np.argsort(xgb_regressor.feature_importances_))\n",
    "indices = np.argsort(xgb_regressor.feature_importances_)[::-1]\n",
    "print(indices)\n",
    "plt.figure(figsize=(8, 5))\n",
    "plt.xticks(range(1, 6), features_data.columns[indices], rotation=90)\n",
    "plt.bar(range(1, 6), feature_importance[indices], align=\"center\")\n",
    "plt.title(\"Feature Importance\", {\"fontsize\": 16});"
   ]
  },
  {
   "cell_type": "code",
   "execution_count": 34,
   "metadata": {},
   "outputs": [
    {
     "name": "stdout",
     "output_type": "stream",
     "text": [
      "RMSE Linear Regressor:719485.65\n",
      "RMSE Lasso Regressor:719485.65\n",
      "RMSE Random Forest Regressor:655044.02\n",
      "RMSE XGB Regressor:606607.88\n"
     ]
    }
   ],
   "source": [
    "estimators = {\"Linear Regressor\": lr_regressor,\n",
    "              \"Lasso Regressor\": laso_regressor,\n",
    "              \"Random Forest Regressor\": rf_regressor,\n",
    "              \"XGB Regressor\": xgb_regressor}\n",
    "for estimator in estimators.keys():\n",
    "    print('RMSE {}:{:.2f}'.format(estimator,np.sqrt(mean_squared_error(y_test, estimators[estimator].predict(X_test)))))"
   ]
  },
  {
   "cell_type": "code",
   "execution_count": 35,
   "metadata": {},
   "outputs": [
    {
     "data": {
      "text/html": [
       "<div>\n",
       "<style scoped>\n",
       "    .dataframe tbody tr th:only-of-type {\n",
       "        vertical-align: middle;\n",
       "    }\n",
       "\n",
       "    .dataframe tbody tr th {\n",
       "        vertical-align: top;\n",
       "    }\n",
       "\n",
       "    .dataframe thead th {\n",
       "        text-align: right;\n",
       "    }\n",
       "</style>\n",
       "<table border=\"1\" class=\"dataframe\">\n",
       "  <thead>\n",
       "    <tr style=\"text-align: right;\">\n",
       "      <th></th>\n",
       "      <th>Unique_ID</th>\n",
       "      <th>Name</th>\n",
       "      <th>Genre</th>\n",
       "      <th>Country</th>\n",
       "      <th>Song_Name</th>\n",
       "      <th>Timestamp</th>\n",
       "      <th>Comments</th>\n",
       "      <th>Likes</th>\n",
       "      <th>Popularity</th>\n",
       "      <th>Followers</th>\n",
       "    </tr>\n",
       "  </thead>\n",
       "  <tbody>\n",
       "    <tr>\n",
       "      <td>0</td>\n",
       "      <td>562546</td>\n",
       "      <td>L2Share♫79</td>\n",
       "      <td>all-music</td>\n",
       "      <td>AU</td>\n",
       "      <td>엔플라잉 N.Flying - Rooftop (옥탑방)</td>\n",
       "      <td>2019-01-02 09:49:19.000000</td>\n",
       "      <td>26</td>\n",
       "      <td>5,428</td>\n",
       "      <td>118</td>\n",
       "      <td>2568</td>\n",
       "    </tr>\n",
       "    <tr>\n",
       "      <td>1</td>\n",
       "      <td>907584</td>\n",
       "      <td>Morgan Page</td>\n",
       "      <td>danceedm</td>\n",
       "      <td>AU</td>\n",
       "      <td>Morgan Page - In The Air - Episode 246</td>\n",
       "      <td>2015-03-09 17:30:10.000000</td>\n",
       "      <td>18</td>\n",
       "      <td>738</td>\n",
       "      <td>195</td>\n",
       "      <td>155645</td>\n",
       "    </tr>\n",
       "    <tr>\n",
       "      <td>2</td>\n",
       "      <td>213013</td>\n",
       "      <td>Dirty Workz</td>\n",
       "      <td>danceedm</td>\n",
       "      <td>AU</td>\n",
       "      <td>Outlander - Devotion (Official HQ Preview)</td>\n",
       "      <td>2013-09-18 16:09:03.000000</td>\n",
       "      <td>18</td>\n",
       "      <td>386</td>\n",
       "      <td>96</td>\n",
       "      <td>29446</td>\n",
       "    </tr>\n",
       "    <tr>\n",
       "      <td>3</td>\n",
       "      <td>340312</td>\n",
       "      <td>Gucci Mane</td>\n",
       "      <td>all-music</td>\n",
       "      <td>AU</td>\n",
       "      <td>Freaky Gurl</td>\n",
       "      <td>2007-08-14 00:00:00.000000</td>\n",
       "      <td>1</td>\n",
       "      <td>388</td>\n",
       "      <td>19</td>\n",
       "      <td>799410</td>\n",
       "    </tr>\n",
       "    <tr>\n",
       "      <td>4</td>\n",
       "      <td>41854</td>\n",
       "      <td>Angga Kecap</td>\n",
       "      <td>rock</td>\n",
       "      <td>AU</td>\n",
       "      <td>Radical Nusantara - Teman</td>\n",
       "      <td>2018-08-10 16:28:54.000000</td>\n",
       "      <td>0</td>\n",
       "      <td>79</td>\n",
       "      <td>1</td>\n",
       "      <td>2</td>\n",
       "    </tr>\n",
       "  </tbody>\n",
       "</table>\n",
       "</div>"
      ],
      "text/plain": [
       "   Unique_ID         Name      Genre Country  \\\n",
       "0     562546   L2Share♫79  all-music      AU   \n",
       "1     907584  Morgan Page   danceedm      AU   \n",
       "2     213013  Dirty Workz   danceedm      AU   \n",
       "3     340312   Gucci Mane  all-music      AU   \n",
       "4      41854  Angga Kecap       rock      AU   \n",
       "\n",
       "                                    Song_Name                   Timestamp  \\\n",
       "0               엔플라잉 N.Flying - Rooftop (옥탑방)  2019-01-02 09:49:19.000000   \n",
       "1      Morgan Page - In The Air - Episode 246  2015-03-09 17:30:10.000000   \n",
       "2  Outlander - Devotion (Official HQ Preview)  2013-09-18 16:09:03.000000   \n",
       "3                                 Freaky Gurl  2007-08-14 00:00:00.000000   \n",
       "4                   Radical Nusantara - Teman  2018-08-10 16:28:54.000000   \n",
       "\n",
       "   Comments  Likes Popularity  Followers  \n",
       "0        26  5,428        118       2568  \n",
       "1        18    738        195     155645  \n",
       "2        18    386         96      29446  \n",
       "3         1    388         19     799410  \n",
       "4         0     79          1          2  "
      ]
     },
     "metadata": {},
     "output_type": "display_data"
    },
    {
     "data": {
      "text/html": [
       "<div>\n",
       "<style scoped>\n",
       "    .dataframe tbody tr th:only-of-type {\n",
       "        vertical-align: middle;\n",
       "    }\n",
       "\n",
       "    .dataframe tbody tr th {\n",
       "        vertical-align: top;\n",
       "    }\n",
       "\n",
       "    .dataframe thead th {\n",
       "        text-align: right;\n",
       "    }\n",
       "</style>\n",
       "<table border=\"1\" class=\"dataframe\">\n",
       "  <thead>\n",
       "    <tr style=\"text-align: right;\">\n",
       "      <th></th>\n",
       "      <th>Genre</th>\n",
       "      <th>Timestamp</th>\n",
       "      <th>Comments</th>\n",
       "      <th>Likes</th>\n",
       "      <th>Popularity</th>\n",
       "      <th>Followers</th>\n",
       "      <th>dayofweek</th>\n",
       "      <th>weekend</th>\n",
       "    </tr>\n",
       "  </thead>\n",
       "  <tbody>\n",
       "    <tr>\n",
       "      <td>0</td>\n",
       "      <td>all-music</td>\n",
       "      <td>2019-01-02 09:49:19</td>\n",
       "      <td>26</td>\n",
       "      <td>5,428</td>\n",
       "      <td>118</td>\n",
       "      <td>2568</td>\n",
       "      <td>2</td>\n",
       "      <td>0</td>\n",
       "    </tr>\n",
       "    <tr>\n",
       "      <td>1</td>\n",
       "      <td>danceedm</td>\n",
       "      <td>2015-03-09 17:30:10</td>\n",
       "      <td>18</td>\n",
       "      <td>738</td>\n",
       "      <td>195</td>\n",
       "      <td>155645</td>\n",
       "      <td>0</td>\n",
       "      <td>0</td>\n",
       "    </tr>\n",
       "    <tr>\n",
       "      <td>2</td>\n",
       "      <td>danceedm</td>\n",
       "      <td>2013-09-18 16:09:03</td>\n",
       "      <td>18</td>\n",
       "      <td>386</td>\n",
       "      <td>96</td>\n",
       "      <td>29446</td>\n",
       "      <td>2</td>\n",
       "      <td>0</td>\n",
       "    </tr>\n",
       "    <tr>\n",
       "      <td>3</td>\n",
       "      <td>all-music</td>\n",
       "      <td>2007-08-14 00:00:00</td>\n",
       "      <td>1</td>\n",
       "      <td>388</td>\n",
       "      <td>19</td>\n",
       "      <td>799410</td>\n",
       "      <td>1</td>\n",
       "      <td>0</td>\n",
       "    </tr>\n",
       "    <tr>\n",
       "      <td>4</td>\n",
       "      <td>rock</td>\n",
       "      <td>2018-08-10 16:28:54</td>\n",
       "      <td>0</td>\n",
       "      <td>79</td>\n",
       "      <td>1</td>\n",
       "      <td>2</td>\n",
       "      <td>4</td>\n",
       "      <td>0</td>\n",
       "    </tr>\n",
       "  </tbody>\n",
       "</table>\n",
       "</div>"
      ],
      "text/plain": [
       "       Genre           Timestamp  Comments  Likes Popularity  Followers  \\\n",
       "0  all-music 2019-01-02 09:49:19        26  5,428        118       2568   \n",
       "1   danceedm 2015-03-09 17:30:10        18    738        195     155645   \n",
       "2   danceedm 2013-09-18 16:09:03        18    386         96      29446   \n",
       "3  all-music 2007-08-14 00:00:00         1    388         19     799410   \n",
       "4       rock 2018-08-10 16:28:54         0     79          1          2   \n",
       "\n",
       "   dayofweek  weekend  \n",
       "0          2        0  \n",
       "1          0        0  \n",
       "2          2        0  \n",
       "3          1        0  \n",
       "4          4        0  "
      ]
     },
     "metadata": {},
     "output_type": "display_data"
    }
   ],
   "source": [
    "data_test = pd.read_csv('./Data_Test.csv')\n",
    "display(data_test.head())\n",
    "label= data_test['Unique_ID']\n",
    "data_test.drop(columns=['Unique_ID','Country','Name','Song_Name'],axis=1,inplace=True)\n",
    "data_test['Timestamp'] =pd.to_datetime(data_test['Timestamp'])\n",
    "data_test['dayofweek'] = data_test['Timestamp'].dt.dayofweek #but mostly people on weekend\n",
    "data_test['weekend'] = data_test['dayofweek'].apply(lambda x: 1 if (x>4)  else 0)\n",
    "display(data_test.head())\n",
    "data_test['Popularity'] = data_test.Popularity.apply(popularityConverting)\n",
    "data_test['Popularity'] = data_test.Popularity.astype('float')\n",
    "data_test['Likes'] = data_test.Likes.apply(popularityConverting)\n",
    "data_test['Likes'] = data_test.Likes.astype('float')\n",
    "X_testf = data_test.loc[:,['Comments', 'Likes', 'Popularity', 'Followers','weekend']]\n",
    "#y_testf = data['Views']"
   ]
  },
  {
   "cell_type": "code",
   "execution_count": 36,
   "metadata": {},
   "outputs": [
    {
     "data": {
      "text/plain": [
       "(19615, 5)"
      ]
     },
     "execution_count": 36,
     "metadata": {},
     "output_type": "execute_result"
    }
   ],
   "source": [
    "X_testf.shape"
   ]
  },
  {
   "cell_type": "code",
   "execution_count": 37,
   "metadata": {},
   "outputs": [
    {
     "data": {
      "text/plain": [
       "19615"
      ]
     },
     "metadata": {},
     "output_type": "display_data"
    },
    {
     "data": {
      "text/plain": [
       "19615"
      ]
     },
     "metadata": {},
     "output_type": "display_data"
    }
   ],
   "source": [
    "X_testf= StandardScaler().fit(X_testf).transform(X_testf)\n",
    "display(len(X_testf))\n",
    "Y_pred = xgb_regressor.predict(X_testf)\n",
    "display(len(Y_pred))"
   ]
  },
  {
   "cell_type": "code",
   "execution_count": 38,
   "metadata": {},
   "outputs": [
    {
     "name": "stdout",
     "output_type": "stream",
     "text": [
      "[271063.1     24231.293    5043.728  ...  -4866.8228 117256.25\n",
      "  17449.912 ]\n"
     ]
    },
    {
     "data": {
      "text/plain": [
       "19615"
      ]
     },
     "metadata": {},
     "output_type": "display_data"
    }
   ],
   "source": [
    "print(Y_pred)\n",
    "display(len(label))"
   ]
  },
  {
   "cell_type": "code",
   "execution_count": 39,
   "metadata": {},
   "outputs": [],
   "source": [
    "sub_df = pd.read_excel('./Sample_Submission.xlsx') \n",
    "submission = pd.DataFrame({\n",
    "        \"Unique_ID\": label,\n",
    "        \"Views\": Y_pred\n",
    "    })\n",
    "submission.to_excel('./Sample_Submission_Final.xlsx',index=False)"
   ]
  },
  {
   "cell_type": "code",
   "execution_count": 44,
   "metadata": {},
   "outputs": [
    {
     "data": {
      "text/plain": [
       "array([[-0.15907996, -0.16707943, -0.19142614, -0.40976814, -0.3927282 ],\n",
       "       [-0.15355976, -0.16344128, -0.18123976, -0.38465498, -0.3927282 ],\n",
       "       [ 0.42054198, -0.06288048,  0.22288937,  0.45255026, -0.3927282 ],\n",
       "       ...,\n",
       "       [ 0.01756672, -0.07100948, -0.01617879,  0.22259384,  2.54629025],\n",
       "       [-0.15769991, -0.16711733, -0.19142614, -0.40024337,  2.54629025],\n",
       "       [-0.15907996, -0.16656782, -0.19142614, -0.40938975,  2.54629025]])"
      ]
     },
     "execution_count": 44,
     "metadata": {},
     "output_type": "execute_result"
    }
   ],
   "source": [
    "X_train"
   ]
  },
  {
   "cell_type": "code",
   "execution_count": 36,
   "metadata": {},
   "outputs": [],
   "source": [
    "from keras import backend as K\n",
    "def root_mean_squared_error(y_true, y_pred):\n",
    "        return K.sqrt(K.mean(K.square(y_pred - y_true)))"
   ]
  },
  {
   "cell_type": "code",
   "execution_count": 43,
   "metadata": {},
   "outputs": [
    {
     "name": "stdout",
     "output_type": "stream",
     "text": [
      "Train on 38444 samples, validate on 16476 samples\n",
      "Epoch 1/100\n",
      "38444/38444 [==============================] - 4s 93us/step - loss: 1514261.7642 - val_loss: 1250599.8060\n",
      "Epoch 2/100\n",
      "38444/38444 [==============================] - 3s 89us/step - loss: 1520694.9905 - val_loss: 1242740.2878\n",
      "Epoch 3/100\n",
      "38444/38444 [==============================] - 3s 90us/step - loss: 1504768.9664 - val_loss: 1231139.0814\n",
      "Epoch 4/100\n",
      "38444/38444 [==============================] - 3s 89us/step - loss: 1486304.9809 - val_loss: 1223140.7702\n",
      "Epoch 5/100\n",
      "38444/38444 [==============================] - 3s 91us/step - loss: 1484571.5512 - val_loss: 1218186.5848\n",
      "Epoch 6/100\n",
      "38444/38444 [==============================] - 4s 98us/step - loss: 1466723.9096 - val_loss: 1214206.1895\n",
      "Epoch 7/100\n",
      "38444/38444 [==============================] - 4s 103us/step - loss: 1475714.1774 - val_loss: 1210317.7482\n",
      "Epoch 8/100\n",
      "38444/38444 [==============================] - 4s 105us/step - loss: 1464480.9921 - val_loss: 1206820.0968\n",
      "Epoch 9/100\n",
      "38444/38444 [==============================] - 4s 92us/step - loss: 1470786.3351 - val_loss: 1203331.3013\n",
      "Epoch 10/100\n",
      "38444/38444 [==============================] - 4s 102us/step - loss: 1471537.0763 - val_loss: 1199549.5674\n",
      "Epoch 11/100\n",
      "38444/38444 [==============================] - 4s 103us/step - loss: 1449381.6881 - val_loss: 1195451.3361\n",
      "Epoch 12/100\n",
      "38444/38444 [==============================] - 4s 95us/step - loss: 1440771.3818 - val_loss: 1191508.7266\n",
      "Epoch 13/100\n",
      "38444/38444 [==============================] - 3s 88us/step - loss: 1448178.7828 - val_loss: 1186936.5647\n",
      "Epoch 14/100\n",
      "38444/38444 [==============================] - 3s 86us/step - loss: 1438522.4416 - val_loss: 1182306.9847\n",
      "Epoch 15/100\n",
      "38444/38444 [==============================] - 3s 87us/step - loss: 1438067.0643 - val_loss: 1177546.9375\n",
      "Epoch 16/100\n",
      "38444/38444 [==============================] - 3s 86us/step - loss: 1431649.2791 - val_loss: 1172314.6623\n",
      "Epoch 17/100\n",
      "38444/38444 [==============================] - 3s 85us/step - loss: 1425182.2634 - val_loss: 1166791.5280\n",
      "Epoch 18/100\n",
      "38444/38444 [==============================] - 3s 86us/step - loss: 1406452.7990 - val_loss: 1161139.5878\n",
      "Epoch 19/100\n",
      "38444/38444 [==============================] - 3s 84us/step - loss: 1397351.6257 - val_loss: 1154840.8732\n",
      "Epoch 20/100\n",
      "38444/38444 [==============================] - 4s 99us/step - loss: 1412261.2361 - val_loss: 1148266.3165\n",
      "Epoch 21/100\n",
      "38444/38444 [==============================] - 4s 92us/step - loss: 1397580.2863 - val_loss: 1141578.0394\n",
      "Epoch 22/100\n",
      "38444/38444 [==============================] - 4s 109us/step - loss: 1386612.3352 - val_loss: 1134726.4942\n",
      "Epoch 23/100\n",
      "38444/38444 [==============================] - 4s 93us/step - loss: 1378201.8281 - val_loss: 1127632.0329\n",
      "Epoch 24/100\n",
      "38444/38444 [==============================] - 4s 95us/step - loss: 1364041.4234 - val_loss: 1118863.8150\n",
      "Epoch 25/100\n",
      "38444/38444 [==============================] - 3s 90us/step - loss: 1353921.4864 - val_loss: 1110434.2432\n",
      "Epoch 26/100\n",
      "38444/38444 [==============================] - 5s 132us/step - loss: 1337275.7189 - val_loss: 1101254.3324\n",
      "Epoch 27/100\n",
      "38444/38444 [==============================] - 5s 122us/step - loss: 1334597.8989 - val_loss: 1091351.5469\n",
      "Epoch 28/100\n",
      "38444/38444 [==============================] - 5s 117us/step - loss: 1321291.9515 - val_loss: 1082114.1055\n",
      "Epoch 29/100\n",
      "38444/38444 [==============================] - 6s 151us/step - loss: 1304555.4202 - val_loss: 1071773.3931\n",
      "Epoch 30/100\n",
      "38444/38444 [==============================] - 4s 109us/step - loss: 1292146.0803 - val_loss: 1061478.5486\n",
      "Epoch 31/100\n",
      "38444/38444 [==============================] - 4s 109us/step - loss: 1288032.0711 - val_loss: 1051204.9170\n",
      "Epoch 32/100\n",
      "38444/38444 [==============================] - 5s 120us/step - loss: 1263145.4906 - val_loss: 1040143.0530\n",
      "Epoch 33/100\n",
      "38444/38444 [==============================] - 4s 107us/step - loss: 1259095.6465 - val_loss: 1028847.7132\n",
      "Epoch 34/100\n",
      "38444/38444 [==============================] - 5s 139us/step - loss: 1241694.5409 - val_loss: 1016010.4228\n",
      "Epoch 35/100\n",
      "38444/38444 [==============================] - 4s 106us/step - loss: 1225906.5758 - val_loss: 1002790.4521\n",
      "Epoch 36/100\n",
      "38444/38444 [==============================] - 4s 105us/step - loss: 1211261.9881 - val_loss: 990856.5026\n",
      "Epoch 37/100\n",
      "38444/38444 [==============================] - 4s 112us/step - loss: 1188896.6725 - val_loss: 977803.6548\n",
      "Epoch 38/100\n",
      "38444/38444 [==============================] - 4s 93us/step - loss: 1181646.5360 - val_loss: 963806.6116\n",
      "Epoch 39/100\n",
      "38444/38444 [==============================] - 3s 86us/step - loss: 1150876.6368 - val_loss: 950097.6362\n",
      "Epoch 40/100\n",
      "38444/38444 [==============================] - 3s 87us/step - loss: 1146518.0732 - val_loss: 934863.1899\n",
      "Epoch 41/100\n",
      "38444/38444 [==============================] - 3s 87us/step - loss: 1127104.1076 - val_loss: 921451.8832\n",
      "Epoch 42/100\n",
      "38444/38444 [==============================] - 3s 87us/step - loss: 1105445.6209 - val_loss: 906356.7330\n",
      "Epoch 43/100\n",
      "38444/38444 [==============================] - 3s 87us/step - loss: 1088381.9009 - val_loss: 892588.8319\n",
      "Epoch 44/100\n",
      "38444/38444 [==============================] - 4s 92us/step - loss: 1075078.5929 - val_loss: 878998.5904\n",
      "Epoch 45/100\n",
      "38444/38444 [==============================] - 3s 88us/step - loss: 1053622.7269 - val_loss: 864505.1245\n",
      "Epoch 46/100\n",
      "38444/38444 [==============================] - 3s 89us/step - loss: 1039621.2639 - val_loss: 849960.6408\n",
      "Epoch 47/100\n",
      "38444/38444 [==============================] - 5s 124us/step - loss: 1024131.4471 - val_loss: 835996.6679: 0s - loss\n",
      "Epoch 48/100\n",
      "38444/38444 [==============================] - 5s 119us/step - loss: 997581.3439 - val_loss: 823449.2025\n",
      "Epoch 49/100\n",
      "38444/38444 [==============================] - 5s 132us/step - loss: 992261.7401 - val_loss: 809693.7916\n",
      "Epoch 50/100\n",
      "38444/38444 [==============================] - 3s 89us/step - loss: 972974.6736 - val_loss: 795275.5163\n",
      "Epoch 51/100\n",
      "38444/38444 [==============================] - 4s 91us/step - loss: 946616.6850 - val_loss: 783129.8416\n",
      "Epoch 52/100\n",
      "38444/38444 [==============================] - 3s 83us/step - loss: 932309.8131 - val_loss: 770484.2641\n",
      "Epoch 53/100\n",
      "38444/38444 [==============================] - 3s 90us/step - loss: 915225.5039 - val_loss: 758279.2991\n",
      "Epoch 54/100\n",
      "38444/38444 [==============================] - 3s 87us/step - loss: 904013.2420 - val_loss: 745993.0186\n",
      "Epoch 55/100\n",
      "38444/38444 [==============================] - 4s 94us/step - loss: 880531.7431 - val_loss: 734865.2266\n",
      "Epoch 56/100\n",
      "38444/38444 [==============================] - 4s 97us/step - loss: 864702.2453 - val_loss: 724107.8349\n",
      "Epoch 57/100\n",
      "38444/38444 [==============================] - 4s 98us/step - loss: 862263.5418 - val_loss: 714745.3464\n",
      "Epoch 58/100\n",
      "38444/38444 [==============================] - 3s 89us/step - loss: 850528.8111 - val_loss: 704286.9554\n",
      "Epoch 59/100\n",
      "38444/38444 [==============================] - 4s 98us/step - loss: 831954.4658 - val_loss: 694953.9440\n",
      "Epoch 60/100\n",
      "38444/38444 [==============================] - 4s 92us/step - loss: 819208.1783 - val_loss: 685829.3814\n",
      "Epoch 61/100\n",
      "38444/38444 [==============================] - 3s 87us/step - loss: 811155.7510 - val_loss: 677042.0086\n",
      "Epoch 62/100\n",
      "38444/38444 [==============================] - 4s 95us/step - loss: 797128.5407 - val_loss: 669341.5525\n",
      "Epoch 63/100\n",
      "38444/38444 [==============================] - 3s 91us/step - loss: 786271.3732 - val_loss: 661840.0074\n",
      "Epoch 64/100\n",
      "38444/38444 [==============================] - 4s 93us/step - loss: 766308.8738 - val_loss: 654345.9798\n",
      "Epoch 65/100\n",
      "38444/38444 [==============================] - 3s 83us/step - loss: 765418.9854 - val_loss: 647252.9624\n",
      "Epoch 66/100\n",
      "38444/38444 [==============================] - 4s 110us/step - loss: 753287.3017 - val_loss: 641144.0936\n",
      "Epoch 67/100\n",
      "38444/38444 [==============================] - 7s 172us/step - loss: 748512.3464 - val_loss: 634345.9376\n",
      "Epoch 68/100\n",
      "38444/38444 [==============================] - 5s 137us/step - loss: 736114.6544 - val_loss: 628387.3280\n",
      "Epoch 69/100\n"
     ]
    },
    {
     "name": "stdout",
     "output_type": "stream",
     "text": [
      "38444/38444 [==============================] - 5s 141us/step - loss: 730567.0606 - val_loss: 622558.3293\n",
      "Epoch 70/100\n",
      "38444/38444 [==============================] - 6s 150us/step - loss: 722868.2459 - val_loss: 616704.8065\n",
      "Epoch 71/100\n",
      "38444/38444 [==============================] - 6s 164us/step - loss: 718962.8361 - val_loss: 610851.1604\n",
      "Epoch 72/100\n",
      "38444/38444 [==============================] - 5s 132us/step - loss: 711321.5737 - val_loss: 605469.3743\n",
      "Epoch 73/100\n",
      "38444/38444 [==============================] - 5s 130us/step - loss: 700972.7318 - val_loss: 600388.1082\n",
      "Epoch 74/100\n",
      "38444/38444 [==============================] - 5s 128us/step - loss: 695829.5045 - val_loss: 595162.7409\n",
      "Epoch 75/100\n",
      "38444/38444 [==============================] - 6s 151us/step - loss: 688212.2988 - val_loss: 590216.8204\n",
      "Epoch 76/100\n",
      "38444/38444 [==============================] - 5s 134us/step - loss: 683861.6098 - val_loss: 585673.5238\n",
      "Epoch 77/100\n",
      "38444/38444 [==============================] - 6s 162us/step - loss: 675791.1963 - val_loss: 581408.6430\n",
      "Epoch 78/100\n",
      "38444/38444 [==============================] - 5s 137us/step - loss: 669306.2379 - val_loss: 577017.7018\n",
      "Epoch 79/100\n",
      "38444/38444 [==============================] - 6s 153us/step - loss: 665439.0449 - val_loss: 573293.5068\n",
      "Epoch 80/100\n",
      "38444/38444 [==============================] - 5s 134us/step - loss: 657101.2524 - val_loss: 569484.6187\n",
      "Epoch 81/100\n",
      "38444/38444 [==============================] - 6s 166us/step - loss: 656092.3820 - val_loss: 566216.6261\n",
      "Epoch 82/100\n",
      "38444/38444 [==============================] - 5s 142us/step - loss: 648414.0317 - val_loss: 562982.0715\n",
      "Epoch 83/100\n",
      "38444/38444 [==============================] - 5s 137us/step - loss: 641532.1236 - val_loss: 559560.5132\n",
      "Epoch 84/100\n",
      "38444/38444 [==============================] - 5s 133us/step - loss: 638502.9848 - val_loss: 556655.8892\n",
      "Epoch 85/100\n",
      "38444/38444 [==============================] - 5s 130us/step - loss: 629258.0896 - val_loss: 553840.4917\n",
      "Epoch 86/100\n",
      "38444/38444 [==============================] - 5s 139us/step - loss: 630049.0528 - val_loss: 551034.9477\n",
      "Epoch 87/100\n",
      "38444/38444 [==============================] - 6s 159us/step - loss: 627343.8465 - val_loss: 548194.4540\n",
      "Epoch 88/100\n",
      "38444/38444 [==============================] - 5s 132us/step - loss: 625330.8046 - val_loss: 545965.2384\n",
      "Epoch 89/100\n",
      "38444/38444 [==============================] - 5s 135us/step - loss: 619838.4754 - val_loss: 543679.6387\n",
      "Epoch 90/100\n",
      "38444/38444 [==============================] - 6s 145us/step - loss: 617116.9246 - val_loss: 541698.5791\n",
      "Epoch 91/100\n",
      "38444/38444 [==============================] - 6s 154us/step - loss: 611790.9520 - val_loss: 539751.1993\n",
      "Epoch 92/100\n",
      "38444/38444 [==============================] - 6s 147us/step - loss: 608908.2073 - val_loss: 537805.4073\n",
      "Epoch 93/100\n",
      "38444/38444 [==============================] - 5s 142us/step - loss: 605744.6338 - val_loss: 535871.2630\n",
      "Epoch 94/100\n",
      "38444/38444 [==============================] - 6s 160us/step - loss: 603827.0780 - val_loss: 534184.3611\n",
      "Epoch 95/100\n",
      "38444/38444 [==============================] - 5s 133us/step - loss: 597743.5163 - val_loss: 532265.0517\n",
      "Epoch 96/100\n",
      "38444/38444 [==============================] - 5s 130us/step - loss: 599014.1972 - val_loss: 530594.2383\n",
      "Epoch 97/100\n",
      "38444/38444 [==============================] - 6s 144us/step - loss: 593161.7913 - val_loss: 528750.4947\n",
      "Epoch 98/100\n",
      "38444/38444 [==============================] - 7s 174us/step - loss: 589741.5028 - val_loss: 527129.1071\n",
      "Epoch 99/100\n",
      "38444/38444 [==============================] - 5s 120us/step - loss: 587408.7275 - val_loss: 525609.1476\n",
      "Epoch 100/100\n",
      "38444/38444 [==============================] - 7s 185us/step - loss: 583073.6241 - val_loss: 523965.5371\n"
     ]
    }
   ],
   "source": [
    "# Importing the Keras libraries and packages\n",
    "import keras\n",
    "from keras.wrappers.scikit_learn import KerasClassifier,KerasRegressor\n",
    "from sklearn.model_selection import GridSearchCV\n",
    "from keras.models import Sequential\n",
    "from keras.layers import Dense\n",
    "from keras.layers import LeakyReLU,PReLU,ELU\n",
    "from keras.layers import Dropout\n",
    "\n",
    "\n",
    "# Function to create model, required for KerasClassifier\n",
    "def create_model():\n",
    "    # create mode\n",
    "    model = Sequential()\n",
    "    model.add(Dense( units=12, input_dim=5, kernel_initializer='he_uniform', activation='relu'))\n",
    "    model.add(Dense( units=8, kernel_initializer='he_uniform', activation='relu'))\n",
    "    model.add(Dense(units = 1, kernel_initializer='he_uniform'))\n",
    "    # Compile model\n",
    "    model.compile(loss=root_mean_squared_error, optimizer='Adamax')\n",
    "    return model\n",
    "# create model\n",
    "model = KerasRegressor(build_fn=create_model)\n",
    "\n",
    "# Fitting the ANN to the Training set\n",
    "model_history=model.fit(X_train, y_train,validation_split=0.30, batch_size = 10, epochs = 100)"
   ]
  },
  {
   "cell_type": "code",
   "execution_count": 46,
   "metadata": {},
   "outputs": [],
   "source": [
    "ann_pred=model.predict(X_test)"
   ]
  },
  {
   "cell_type": "code",
   "execution_count": 47,
   "metadata": {},
   "outputs": [
    {
     "name": "stdout",
     "output_type": "stream",
     "text": [
      "RMSE: 1407031.436640\n"
     ]
    }
   ],
   "source": [
    "rmse = np.sqrt(mean_squared_error(y_test, ann_pred))\n",
    "print(\"RMSE: %f\" % (rmse))"
   ]
  },
  {
   "cell_type": "code",
   "execution_count": null,
   "metadata": {},
   "outputs": [],
   "source": []
  }
 ],
 "metadata": {
  "kernelspec": {
   "display_name": "Python 3",
   "language": "python",
   "name": "python3"
  },
  "language_info": {
   "codemirror_mode": {
    "name": "ipython",
    "version": 3
   },
   "file_extension": ".py",
   "mimetype": "text/x-python",
   "name": "python",
   "nbconvert_exporter": "python",
   "pygments_lexer": "ipython3",
   "version": "3.7.3"
  }
 },
 "nbformat": 4,
 "nbformat_minor": 2
}
