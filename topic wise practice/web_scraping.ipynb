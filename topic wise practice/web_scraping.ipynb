{
 "cells": [
  {
   "cell_type": "code",
   "execution_count": 1,
   "metadata": {},
   "outputs": [
    {
     "name": "stdout",
     "output_type": "stream",
     "text": [
      "<div class=\"nstory_header\"><a href=\"https://sports.ndtv.com/cricket/india-vs-west-indies-live-score-over-1st-odi-odi-21-25-updates-2149150\" title=\"West Indies vs India Live Score, Over 21 to 25 Latest Cricket Score, Updates\">\n",
      "                                West Indies vs India Live Score, Over 21 to 25 Latest Cricket Score, Updates                            </a></div>\n",
      "<div class=\"nstory_header\"><a href=\"https://www.ndtv.com/business/fixed-deposit-interest-rate-news-sbi-fd-rate-hdfc-fd-rate-kotak-fd-rate-icici-fd-rate-axis-compared-2144270\" title=\"India's Top Banks Offer These Interest Rates On Fixed Deposit (FD). Compare Rates Here\">\n",
      "                                India's Top Banks Offer These Interest Rates On Fixed Deposit (FD). Compare Rates Here                            </a></div>\n",
      "<div class=\"nstory_header\"><a href=\"https://www.ndtv.com/india-news/assam-students-body-aasu-protesting-citizenship-act-hints-at-launching-party-2149151\" title=\"Assam Students' Body, Protesting Citizenship Law, Hints Launching Party\">\n",
      "                                Assam Students' Body, Protesting Citizenship Law, Hints Launching Party                            </a></div>\n",
      "<div class=\"nstory_header\"><a href=\"https://sports.ndtv.com/cricket/india-vs-west-indies-live-score-over-1st-odi-odi-16-20-updates-2149142\" title=\"India vs West Indies Live Score, Over 16 to 20 Latest Cricket Score, Updates\">\n",
      "                                India vs West Indies Live Score, Over 16 to 20 Latest Cricket Score, Updates                            </a></div>\n",
      "<div class=\"nstory_header\"><a href=\"https://www.ndtv.com/india-news/devendra-fadnavis-dubs-winter-session-of-maharashtra-assembly-as-farce-2149149\" title='Devendra Fadnavis Dubs Winter Session Of Maharashtra Assembly As \"Farce\"'>\n",
      "                                Devendra Fadnavis Dubs Winter Session Of Maharashtra Assembly As \"Farce\"                            </a></div>\n",
      "<div class=\"nstory_header\"><a href=\"https://sports.ndtv.com/cricket/salman-khan-reveals-name-of-his-favourite-cricketer-2149147\" title=\"Salman Khan Reveals Name Of His Favourite Cricketer\">\n",
      "                                Salman Khan Reveals Name Of His Favourite Cricketer                            </a></div>\n",
      "<div class=\"nstory_header\"><a href=\"https://www.ndtv.com/business/punjab-national-bank-pnb-fd-rate-2019-pnb-pays-6-8-interest-to-senior-citizens-on-1-year-bank-fd-2149146\" title=\"PNB Pays 6.8% Interest To Senior Citizens On 1-Year FD. Compare Other Rates Here\">\n",
      "                                PNB Pays 6.8% Interest To Senior Citizens On 1-Year FD. Compare Other Rates Here                            </a></div>\n",
      "<div class=\"nstory_header\"><a href=\"https://www.ndtv.com/jobs/csbc-bihar-police-releases-constable-driver-exam-admit-card-direct-link-here-2149144\" title=\"Bihar Police Releases Constable Driver Exam Admit Card\">\n",
      "                                Bihar Police Releases Constable Driver Exam Admit Card                            </a></div>\n",
      "<div class=\"nstory_header\"><a href=\"https://sports.ndtv.com/cricket/india-vs-west-indies-live-score-over-1st-odi-odi-11-15-updates-2149132\" title=\"India vs West Indies Live Score, Over 11 to 15 Latest Cricket Score, Updates\">\n",
      "                                India vs West Indies Live Score, Over 11 to 15 Latest Cricket Score, Updates                            </a></div>\n",
      "<div class=\"nstory_header\"><a href=\"https://www.ndtv.com/business/bandhan-bank-fd-rate-2019-bandhan-pays-8-interest-to-senior-citizens-on-1-year-fd-compare-fd-rates-2149139\" title=\"Bandhan Bank Pays 8% Interest To Senior Citizens On 1-Year FD. Compare Other Rates Here\">\n",
      "                                Bandhan Bank Pays 8% Interest To Senior Citizens On 1-Year FD. Compare Other Rates Here                            </a></div>\n",
      "<div class=\"nstory_header\"><a href=\"https://www.ndtv.com/business/indusind-bank-fd-rate-2019-indusind-pays-7-75-interest-to-senior-citizens-on-1-year-fd-compare-rates-2149128\" title=\"IndusInd Bank Pays 7.75% Interest To Senior Citizens On 1-Year FD. Compare Other Rates Here\">\n",
      "                                IndusInd Bank Pays 7.75% Interest To Senior Citizens On 1-Year FD. Compare Other Rates Here                            </a></div>\n",
      "<div class=\"nstory_header\"><a href=\"https://www.ndtv.com/entertainment/when-catherine-zeta-jones-danced-to-kala-chashma-in-india-2149133\" title=\"When Catherine Zeta-Jones Danced To &lt;I&gt;Kala Chashma&lt;/I&gt; In India\">\n",
      "                                When Catherine Zeta-Jones Danced To <i>Kala Chashma</i> In India                            </a></div>\n",
      "<div class=\"nstory_header\"><a href=\"https://sports.ndtv.com/cricket/india-vs-west-indies-live-score-over-1st-odi-odi-6-10-updates-2149120\" title=\"West Indies vs India Live Score, Over 6 to 10 Latest Cricket Score, Updates\">\n",
      "                                West Indies vs India Live Score, Over 6 to 10 Latest Cricket Score, Updates                            </a></div>\n",
      "<div class=\"nstory_header\"><a href=\"https://www.ndtv.com/india-news/internet-services-suspended-temporarily-in-parts-of-west-bengal-amid-protests-against-amended-citize-2149131\" title=\"Internet Suspended In Parts Of Bengal Amid Protests Over Citizenship Act\">\n",
      "                                Internet Suspended In Parts Of Bengal Amid Protests Over Citizenship Act                            </a></div>\n",
      "<div class=\"nstory_header\"><a href=\"https://sports.ndtv.com/cricket/bangladesh-cricket-board-will-not-force-players-to-travel-to-pakistan-nazmul-hassan-2149126\" title=\"Bangladesh Cricket Board Will Not Force Players To Travel To Pakistan: Nazmul Hassan\">\n",
      "                                Bangladesh Cricket Board Will Not Force Players To Travel To Pakistan: Nazmul Hassan                            </a></div>\n",
      "[{}, {}, {}, {}, {}, {}, {}, {}, {}, {}, {}, {}, {}, {}, {}]\n"
     ]
    }
   ],
   "source": [
    "\n",
    "import requests \n",
    "from bs4 import BeautifulSoup \n",
    "  \n",
    "URL = \"https://www.ndtv.com/latest?pfrom=home-mainnavgation\"\n",
    "r = requests.get(URL) \n",
    "  \n",
    "soup = BeautifulSoup(r.content, 'html5lib') \n",
    "  \n",
    "quotes=[]  # a list to store quotes \n",
    "  \n",
    "\n",
    "for row in soup.findAll('div', attrs = {'class':'nstory_header'}): \n",
    "    quote = {} \n",
    "    print(row)\n",
    "    quotes.append(quote)  \n",
    "\n",
    "print(quotes) "
   ]
  },
  {
   "cell_type": "code",
   "execution_count": null,
   "metadata": {},
   "outputs": [],
   "source": []
  }
 ],
 "metadata": {
  "kernelspec": {
   "display_name": "Python 3",
   "language": "python",
   "name": "python3"
  },
  "language_info": {
   "codemirror_mode": {
    "name": "ipython",
    "version": 3
   },
   "file_extension": ".py",
   "mimetype": "text/x-python",
   "name": "python",
   "nbconvert_exporter": "python",
   "pygments_lexer": "ipython3",
   "version": "3.7.3"
  }
 },
 "nbformat": 4,
 "nbformat_minor": 2
}
